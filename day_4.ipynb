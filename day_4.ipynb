{
 "cells": [
  {
   "cell_type": "code",
   "execution_count": null,
   "id": "4571b59c",
   "metadata": {},
   "outputs": [],
   "source": [
    "import torch\n",
    "torch.__version__\n",
    "\n",
    "from torch import nn"
   ]
  },
  {
   "cell_type": "code",
   "execution_count": null,
   "id": "53625c35",
   "metadata": {},
   "outputs": [],
   "source": [
    "import torchvision #contains datasets, model architecture, image transformation\n",
    "from torchvision import datasets\n",
    "from torchvision.transforms import ToTensor"
   ]
  },
  {
   "cell_type": "code",
   "execution_count": null,
   "id": "eabcef37",
   "metadata": {},
   "outputs": [],
   "source": [
    "device = 'cuda' if torch.cuda.is_available() else 'cpu'\n",
    "device"
   ]
  },
  {
   "cell_type": "code",
   "execution_count": null,
   "id": "8f5eec19",
   "metadata": {},
   "outputs": [],
   "source": [
    "import matplotlib.pyplot as plt\n",
    "\n",
    "# Check versions\n",
    "# Note: your PyTorch version shouldn't be lower than 1.10.0 and torchvision version shouldn't be lower than 0.11\n",
    "print(f\"PyTorch version: {torch.__version__}\\ntorchvision version: {torchvision.__version__}\")\n"
   ]
  },
  {
   "cell_type": "markdown",
   "id": "357768fd",
   "metadata": {},
   "source": [
    "<li>root : where to download data to\n",
    "    <li>train:bool : get train/test data\n",
    "        <li>download:bool - download or nOt\n",
    "            <li>transform = what transformation to apply\n",
    "                "
   ]
  },
  {
   "cell_type": "code",
   "execution_count": null,
   "id": "b200100b",
   "metadata": {},
   "outputs": [],
   "source": [
    "#setup training _data\n",
    "\n",
    "train_data = datasets.FashionMNIST(root = 'data',\n",
    "                                   train = True,\n",
    "                                   download = True,\n",
    "                                   transform = ToTensor(),\n",
    "                                   target_transform = None)\n",
    "\n",
    "test_data = datasets.FashionMNIST(root = 'data',\n",
    "                                  train = False,\n",
    "                                  download = True,\n",
    "                                  transform = ToTensor())\n",
    "                                   "
   ]
  },
  {
   "cell_type": "code",
   "execution_count": null,
   "id": "7e00e1ef",
   "metadata": {},
   "outputs": [],
   "source": [
    "train_data\n"
   ]
  },
  {
   "cell_type": "code",
   "execution_count": null,
   "id": "8f695bf2",
   "metadata": {},
   "outputs": [],
   "source": [
    "test_data"
   ]
  },
  {
   "cell_type": "code",
   "execution_count": null,
   "id": "aaa567c4",
   "metadata": {},
   "outputs": [],
   "source": [
    "train_data[0]"
   ]
  },
  {
   "cell_type": "code",
   "execution_count": null,
   "id": "c0cc1262",
   "metadata": {},
   "outputs": [],
   "source": [
    "image, label = train_data[0]\n",
    "image, label"
   ]
  },
  {
   "cell_type": "code",
   "execution_count": null,
   "id": "d8fafc23",
   "metadata": {},
   "outputs": [],
   "source": [
    "len(train_data),len(train_data.targets),len(test_data)"
   ]
  },
  {
   "cell_type": "code",
   "execution_count": null,
   "id": "6bf133a7",
   "metadata": {},
   "outputs": [],
   "source": [
    "# See classes\n",
    "class_names = train_data.classes\n",
    "class_names"
   ]
  },
  {
   "cell_type": "code",
   "execution_count": null,
   "id": "db404a98",
   "metadata": {},
   "outputs": [],
   "source": [
    "import matplotlib.pyplot as plt\n",
    "image, label = train_data[1]\n",
    "print(f\"Image shape: {image.shape}\")\n",
    "plt.imshow(image.squeeze(),cmap='gray') # image shape is [1, 28, 28] (colour channels, height, width)\n",
    "plt.title(label);"
   ]
  },
  {
   "cell_type": "code",
   "execution_count": null,
   "id": "959fdeec",
   "metadata": {},
   "outputs": [],
   "source": [
    "torch.randint(0, len(train_data),size=[1])"
   ]
  },
  {
   "cell_type": "code",
   "execution_count": null,
   "id": "cce8c310",
   "metadata": {},
   "outputs": [],
   "source": [
    "torch.manual_seed(42)\n",
    "fig = plt.figure(figsize=(9, 9))\n",
    "rows, cols = 4, 4\n",
    "for i in range(1, rows * cols + 1):\n",
    "    random_idx = torch.randint(0, len(train_data), size=[1]).item()\n",
    "    img, label = train_data[random_idx]\n",
    "    fig.add_subplot(rows, cols, i)\n",
    "    plt.imshow(img.squeeze(), cmap=\"gray\")\n",
    "    plt.title(class_names[label])\n",
    "   # plt.axis(False);"
   ]
  },
  {
   "cell_type": "markdown",
   "id": "e68eb209",
   "metadata": {},
   "source": [
    "# Prepare a dataloader\n",
    "<li> help to load data into model\n",
    "    <li>turns a large dataset into python iterbale of smaller chunks\n",
    "        <li>forward and backward pass on huge dataset is imposiible so mini bathces are done "
   ]
  },
  {
   "cell_type": "code",
   "execution_count": null,
   "id": "af8eabc0",
   "metadata": {},
   "outputs": [],
   "source": [
    "from torch.utils.data import DataLoader"
   ]
  },
  {
   "cell_type": "code",
   "execution_count": null,
   "id": "e0dc9f45",
   "metadata": {},
   "outputs": [],
   "source": [
    "bs = 32 #bacthSize\n",
    "\n",
    "#turn datasets into iterables\n",
    "train_dataloader = DataLoader(train_data,batch_size = bs,shuffle = True)\n",
    "\n",
    "test_dataloader = DataLoader(test_data,batch_size = bs)\n",
    "\n",
    "print(f'dataloader : {train_dataloader , test_dataloader}')\n",
    "print(f'Length of train dataloader :{len(train_dataloader)} batches of {bs}')\n",
    "print(f'Length of test dataloader :{len(test_dataloader)} batches of {bs}')"
   ]
  },
  {
   "cell_type": "code",
   "execution_count": null,
   "id": "614bc838",
   "metadata": {},
   "outputs": [],
   "source": [
    "train_features_batch, train_labels_batch = next(iter(train_dataloader))\n",
    "train_features_batch.shape, train_labels_batch.shape"
   ]
  },
  {
   "cell_type": "code",
   "execution_count": null,
   "id": "e75da8a2",
   "metadata": {},
   "outputs": [],
   "source": [
    "flatten = nn.Flatten()\n",
    "flatten(train_features_batch[0]).shape"
   ]
  },
  {
   "cell_type": "code",
   "execution_count": null,
   "id": "66ece78f",
   "metadata": {},
   "outputs": [],
   "source": [
    "class Fashion(nn.Module):\n",
    "    def __init__(self):\n",
    "        super().__init__()\n",
    "        self.flatten  = nn.Flatten()\n",
    "        self.layer_1 = nn.Linear(in_features = 784 ,out_features = 512)\n",
    "        self.layer_2 = nn.Linear(in_features = 512 ,out_features = 10)\n",
    "    \n",
    "    def forward(self,x):\n",
    "        return self.layer_2(self.layer_1(x))\n",
    "\n",
    "model_0 = Fashion().to(device)    "
   ]
  },
  {
   "cell_type": "code",
   "execution_count": null,
   "id": "26f5e131",
   "metadata": {},
   "outputs": [],
   "source": [
    "model_0"
   ]
  },
  {
   "cell_type": "code",
   "execution_count": null,
   "id": "6877b488",
   "metadata": {},
   "outputs": [],
   "source": [
    "def accuracy_fn(actual,pred):\n",
    "    acc = torch.eq(actual,pred).sum().item()/len(actual)\n",
    "    return acc\n",
    "\n",
    "loss_fn = nn.CrossEntropyLoss()\n",
    "optimizer = torch.optim.SGD(params = model_0.parameters(),lr=0.1)"
   ]
  },
  {
   "cell_type": "code",
   "execution_count": null,
   "id": "b2e978b4",
   "metadata": {},
   "outputs": [],
   "source": [
    "from tqdm.auto import tqdm\n"
   ]
  },
  {
   "cell_type": "code",
   "execution_count": null,
   "id": "20b18b9b",
   "metadata": {},
   "outputs": [],
   "source": [
    "class FashionMNISTModelV1(nn.Module):\n",
    "    def __init__(self, input_shape: int, hidden_units: int, output_shape: int):\n",
    "        super().__init__()\n",
    "        self.layer_stack = nn.Sequential(\n",
    "            nn.Flatten(), # flatten inputs into single vector\n",
    "            nn.Linear(in_features=input_shape, out_features=hidden_units),\n",
    "            nn.ReLU(),\n",
    "            nn.Linear(in_features=hidden_units, out_features=output_shape),\n",
    "            nn.ReLU()\n",
    "        )\n",
    "    \n",
    "    def forward(self, x: torch.Tensor):\n",
    "        return self.layer_stack(x)\n",
    "    \n",
    "torch.manual_seed(42)\n",
    "model_1 = FashionMNISTModelV1(input_shape=784, # number of input features\n",
    "    hidden_units=10,\n",
    "    output_shape=len(class_names) # number of output classes desired\n",
    ").to(device) # send model to GPU if it's available\n",
    "next(model_1.parameters()).device # check model device    "
   ]
  },
  {
   "cell_type": "code",
   "execution_count": null,
   "id": "d51347da",
   "metadata": {},
   "outputs": [],
   "source": [
    "epochs =3\n",
    "train_acc = 0\n",
    "for epoch in tqdm(range(epochs)):\n",
    "    print(f'EPoch : {epoch}')\n",
    "    \n",
    "    ###trainnig\n",
    "    #loop through each training batches\n",
    "    train_loss=0\n",
    "    for batch,(X,y) in enumerate(train_dataloader):\n",
    "        X = X.to(device)\n",
    "        y = y.to(device)\n",
    "        \n",
    "        model_1.train()\n",
    "        #print(X.shape)\n",
    "        \n",
    "        #forwrad pass\n",
    "        y_pred = model_1(X)\n",
    "        #print(y_pred)\n",
    "       \n",
    "        #calculate loss per batch\n",
    "        loss = loss_fn(y_pred,y)\n",
    "        #print(f'loss values {loss}')\n",
    "        train_loss += loss\n",
    "        \n",
    "        train_acc += accuracy_fn(y,y_pred.argmax(dim=1)) # Go from logits -> pred labels\n",
    "        print(f'train_acc{train_acc}')\n",
    "        \n",
    "        \n",
    "        #optimizer zero grad\n",
    "        optimizer.zero_grad()\n",
    "        \n",
    "        #loss backward\n",
    "        loss.backward()\n",
    "        \n",
    "        #optimzer step\n",
    "        optimizer.step()\n",
    "        \n",
    "        if batch%400 == 0 :\n",
    "            print(f\"Looked at {batch * len(X)}/{len(train_dataloader.dataset)} samples\")\n",
    "        \n",
    "        train_loss /= len(train_dataloader)\n",
    "    \n",
    "    ### Testing\n",
    "    # Setup variables for accumulatively adding up loss and accuracy \n",
    "    test_loss, test_acc = 0, 0 \n",
    "    model_0.eval()\n",
    "    with torch.no_grad():\n",
    "        for X, y in test_dataloader:\n",
    "            # 1. Forward pass\n",
    "            test_pred = model_0(X)\n",
    "           \n",
    "            # 2. Calculate loss (accumatively)\n",
    "            test_loss += loss_fn(test_pred, y) # accumulatively add up the loss per epoch\n",
    "\n",
    "            # 3. Calculate accuracy (preds need to be same as y_true)\n",
    "            test_acc += accuracy_fn(y, test_pred.argmax(dim=1))\n",
    "        \n",
    "        # Calculations on test metrics need to happen inside torch.inference_mode()\n",
    "        # Divide total test loss by length of test dataloader (per batch)\n",
    "        test_loss /= len(test_dataloader)\n",
    "\n",
    "        # Divide total accuracy by length of test dataloader (per batch)\n",
    "        test_acc /= len(test_dataloader)\n",
    "\n",
    "    ## Print out what's happening\n",
    "    print(f\"\\nTrain loss: {train_loss:.5f} | Test loss: {test_loss:.5f}, Test acc: {test_acc: .2f}%\\n\")\n",
    "\n",
    "        "
   ]
  },
  {
   "cell_type": "code",
   "execution_count": null,
   "id": "8430a228",
   "metadata": {},
   "outputs": [],
   "source": [
    "#calcuate those predictions using the loss function and accuracy function.\n",
    "\n",
    "torch.manual_seed(42)\n",
    "def eval_model(model: torch.nn.Module, \n",
    "               data_loader: torch.utils.data.DataLoader, \n",
    "               loss_fn: torch.nn.Module, \n",
    "               accuracy_fn):\n",
    "    \"\"\"Returns a dictionary containing the results of model predicting on data_loader.\n",
    "\n",
    "    Args:\n",
    "        model (torch.nn.Module): A PyTorch model capable of making predictions on data_loader.\n",
    "        data_loader (torch.utils.data.DataLoader): The target dataset to predict on.\n",
    "        loss_fn (torch.nn.Module): The loss function of model.\n",
    "        accuracy_fn: An accuracy function to compare the models predictions to the truth labels.\n",
    "\n",
    "    Returns:\n",
    "        (dict): Results of model making predictions on data_loader.\n",
    "    \"\"\"\n",
    "    loss, acc = 0, 0\n",
    "    model.eval()\n",
    "    with torch.no_grad():\n",
    "        for X, y in data_loader:\n",
    "            X = X.to(device)\n",
    "            y= y.to(device)\n",
    "            # Make predictions with the model\n",
    "            y_pred = model(X).to(device)\n",
    "            \n",
    "            # Accumulate the loss and accuracy values per batch\n",
    "            loss += loss_fn(y_pred, y)\n",
    "            acc += accuracy_fn(y, \n",
    "                                y_pred.argmax(dim=1)) # For accuracy, need the prediction labels (logits -> pred_prob -> pred_labels)\n",
    "        \n",
    "        # Scale loss and acc to find the average loss/acc per batch\n",
    "        loss /= len(data_loader)\n",
    "        acc /= len(data_loader)\n",
    "        \n",
    "    return {\"model_name\": model.__class__.__name__, # only works when model was created with a class\n",
    "            \"model_loss\": loss.item(),\n",
    "            \"model_acc\": acc}\n",
    "\n",
    "# Calculate model 0 results on test dataset\n",
    "model_0_results = eval_model(model=model_0, data_loader=test_dataloader,\n",
    "    loss_fn=loss_fn, accuracy_fn=accuracy_fn\n",
    ")\n",
    "model_0_results"
   ]
  },
  {
   "cell_type": "code",
   "execution_count": null,
   "id": "9d165d17",
   "metadata": {},
   "outputs": [],
   "source": [
    "import torch\n",
    "device = \"cuda\" if torch.cuda.is_available() else \"cpu\"\n",
    "device"
   ]
  },
  {
   "cell_type": "code",
   "execution_count": null,
   "id": "a7f3b6a2",
   "metadata": {},
   "outputs": [],
   "source": [
    "class Fashion(nn.Module):\n",
    "    def __init__(self):\n",
    "        super().__init__()\n",
    "        self.layer_stack = nn.Sequential(\n",
    "            nn.Flatten(),\n",
    "            nn.Linear(in_features = 784 ,out_features = 10),\n",
    "            nn.ReLU(),\n",
    "            nn.Linear(in_features = 10 ,out_features = 10),\n",
    "            nn.ReLU()\n",
    "        )\n",
    "        \n",
    "    def forward(self,x):\n",
    "        return self.layer_stack(x)"
   ]
  },
  {
   "cell_type": "code",
   "execution_count": null,
   "id": "17fecda6",
   "metadata": {},
   "outputs": [],
   "source": [
    "torch.manual_seed(42)\n",
    "model = Fashion().to(device)\n",
    "\n",
    "next(model.parameters()).device"
   ]
  },
  {
   "cell_type": "code",
   "execution_count": null,
   "id": "5ce300b6",
   "metadata": {},
   "outputs": [],
   "source": [
    "loss_fn = nn.CrossEntropyLoss()\n",
    "optimizer = torch.optim.SGD(params = model.parameters(),lr = 0.1)"
   ]
  },
  {
   "cell_type": "code",
   "execution_count": null,
   "id": "0fd6fa94",
   "metadata": {},
   "outputs": [],
   "source": [
    "def train_loop(model,\n",
    "               data_loader, \n",
    "               loss_fn,\n",
    "               optimizer,\n",
    "               accuracy_fn,\n",
    "               device=device):\n",
    "    \n",
    "    train_loss = 0\n",
    "    \n",
    "    train_acc= 0\n",
    "    \n",
    "    for batch,(X, y) in enumerate(data_loader):\n",
    "        \n",
    "        X,y = X.to(device),y.to(device)\n",
    "        \n",
    "        #ForwardPass\n",
    "        y_pred = model(X)  #shape will be [32,10] --> prob val for each class\n",
    "        #print(f'shape of y_pred {y_pred.shape}')\n",
    "        #print(f'shape of y {y.shape}')\n",
    "        \n",
    "        #loss function\n",
    "        loss = loss_fn(y_pred,y) #[32,10] [10]\n",
    "        #print(f'loss value {loss}')\n",
    "        train_loss += loss\n",
    "        \n",
    "        accuracy = accuracy_fn(y_pred.argmax(dim=1),y)\n",
    "        train_acc +=accuracy\n",
    "        \n",
    "        \n",
    "        #zero grad\n",
    "        optimizer.zero_grad()\n",
    "        \n",
    "        #backpropogate\n",
    "        loss.backward()\n",
    "        \n",
    "        #optimizeer Step\n",
    "        optimizer.step()\n",
    "        \n",
    "    train_loss /=len(data_loader)    \n",
    "    train_acc /= len(data_loader)\n",
    "    print(f\"Train loss: {train_loss:.5f} | Train accuracy: {train_acc:.2f}%\")\n",
    "\n",
    "\n",
    "def test_loop(model,data_loader,loss_fn,accuracy_fn,device=device)    :\n",
    "    \n",
    "    test_acc = 0\n",
    "    test_loss= 0\n",
    "    model.eval()\n",
    "    \n",
    "    with torch.no_grad():\n",
    "        for X,y in data_loader:\n",
    "            X,y = X.to(device),y.to(device)\n",
    "            test_pred = model(X)\n",
    "            \n",
    "            # 2. Calculate loss and accuracy\n",
    "            test_loss += loss_fn(test_pred, y)\n",
    "            test_acc += accuracy_fn(y,test_pred.argmax(dim=1) # Go from logits -> pred labels\n",
    "            )\n",
    "        test_loss /= len(data_loader)\n",
    "        test_acc /= len(data_loader)\n",
    "        print(f\"Test loss: {test_loss:.5f} | Test accuracy: {test_acc:.2f}%\\n\")    \n"
   ]
  },
  {
   "cell_type": "code",
   "execution_count": null,
   "id": "6ab809b1",
   "metadata": {},
   "outputs": [],
   "source": [
    "epochs = 3\n",
    "for epoch in tqdm(range(epochs)):\n",
    "    print(f\"Epoch: {epoch}\\n---------\")\n",
    "    train_loop(data_loader=train_dataloader, \n",
    "        model=model, \n",
    "        loss_fn=loss_fn,\n",
    "        optimizer=optimizer,\n",
    "        accuracy_fn=accuracy_fn\n",
    "    )\n",
    "    test_loop(data_loader=test_dataloader,\n",
    "        model=model,\n",
    "        loss_fn=loss_fn,\n",
    "        accuracy_fn=accuracy_fn\n",
    "    )"
   ]
  },
  {
   "cell_type": "code",
   "execution_count": null,
   "id": "b99c0c70",
   "metadata": {},
   "outputs": [],
   "source": [
    "\n",
    "\n",
    "# Move values to device\n",
    "torch.manual_seed(42)\n",
    "def eval_model(model: torch.nn.Module, \n",
    "               data_loader: torch.utils.data.DataLoader, \n",
    "               loss_fn: torch.nn.Module, \n",
    "               accuracy_fn, \n",
    "               device: torch.device = device):\n",
    "    \"\"\"Evaluates a given model on a given dataset.\n",
    "\n",
    "    Args:\n",
    "        model (torch.nn.Module): A PyTorch model capable of making predictions on data_loader.\n",
    "        data_loader (torch.utils.data.DataLoader): The target dataset to predict on.\n",
    "        loss_fn (torch.nn.Module): The loss function of model.\n",
    "        accuracy_fn: An accuracy function to compare the models predictions to the truth labels.\n",
    "        device (str, optional): Target device to compute on. Defaults to device.\n",
    "\n",
    "    Returns:\n",
    "        (dict): Results of model making predictions on data_loader.\n",
    "    \"\"\"\n",
    "    loss, acc = 0, 0\n",
    "    model.eval()\n",
    "    with torch.no_grad():\n",
    "        for X, y in data_loader:\n",
    "            # Send data to the target device\n",
    "            X, y = X.to(device), y.to(device)\n",
    "            y_pred = model(X)\n",
    "            loss += loss_fn(y_pred, y)\n",
    "            acc += accuracy_fn(y, y_pred.argmax(dim=1))\n",
    "        \n",
    "        # Scale loss and acc\n",
    "        loss /= len(data_loader)\n",
    "        acc /= len(data_loader)\n",
    "    return {\"model_name\": model.__class__.__name__, # only works when model was created with a class\n",
    "            \"model_loss\": loss.item(),\n",
    "            \"model_acc\": acc}\n",
    "model_1_results = eval_model(model=model, data_loader=test_dataloader,\n",
    "    loss_fn=loss_fn, accuracy_fn=accuracy_fn,\n",
    "    device=device\n",
    ")\n",
    "model_1_results"
   ]
  },
  {
   "cell_type": "markdown",
   "id": "fe48b05d",
   "metadata": {},
   "source": [
    "# CNN"
   ]
  },
  {
   "cell_type": "code",
   "execution_count": null,
   "id": "3d49d0c3",
   "metadata": {},
   "outputs": [],
   "source": [
    "class Fashion(nn.Module):\n",
    "    \n",
    "    def __init__(self,input_shape,hidden_units,out_shape):\n",
    "        super().__init__()\n",
    "        self.block_1 = nn.Sequential(                \n",
    "            nn.Conv2d(in_channels = input_shape,\n",
    "                 out_channels = hidden_units,\n",
    "                 kernel_size = 3,\n",
    "                 stride = 1,\n",
    "                 padding = 1\n",
    "                     ),\n",
    "            nn.ReLU(),\n",
    "            nn.Conv2d(in_channels = hidden_units,\n",
    "                 out_channels = hidden_units,\n",
    "                 kernel_size = 3,\n",
    "                 stride = 1,\n",
    "                 padding = 1),\n",
    "            nn.ReLU(),\n",
    "            nn.MaxPool2d(kernel_size = 2,stride = 2))\n",
    "                        \n",
    "        self.block_2 = nn.Sequential(\n",
    "            nn.Conv2d(hidden_units, hidden_units, 3, padding=1),\n",
    "            nn.ReLU(),\n",
    "            nn.Conv2d(hidden_units, hidden_units, 3, padding=1),\n",
    "            nn.ReLU(),\n",
    "            nn.MaxPool2d(2)\n",
    "        )\n",
    "        \n",
    "        self.classifier = nn.Sequential(\n",
    "            nn.Flatten(),\n",
    "            nn.Linear(in_features=hidden_units*7*7,out_features=out_shape)\n",
    "        )\n",
    "        \n",
    "    def forward(self,x):\n",
    "        x = self.block_1(x)\n",
    "        print(x.shape)\n",
    "        x = self.block_2(x)\n",
    "        print(x.shape)\n",
    "        x = self.classifier(x)\n",
    "        \n",
    "        return x\n",
    "        "
   ]
  },
  {
   "cell_type": "code",
   "execution_count": null,
   "id": "9f898042",
   "metadata": {},
   "outputs": [],
   "source": [
    "torch.manual_seed(42)\n",
    "model_2 = Fashion(input_shape=1,hidden_units=10,out_shape=10).to(device)\n",
    "model_2"
   ]
  },
  {
   "cell_type": "code",
   "execution_count": null,
   "id": "4f2e3817",
   "metadata": {},
   "outputs": [],
   "source": [
    "images = torch.randn(size=(32, 3, 64, 64)) # [batch_size, color_channels, height, width]\n",
    "test_image = images[0] # get a single image for testing\n",
    "print(f\"Image batch shape: {images.shape} -> [batch_size, color_channels, height, width]\")\n",
    "print(f\"Single image shape: {test_image.shape} -> [color_channels, height, width]\") \n",
    "print(f\"Single image pixel values:\\n{test_image}\")"
   ]
  },
  {
   "cell_type": "code",
   "execution_count": null,
   "id": "b4cf9414",
   "metadata": {},
   "outputs": [],
   "source": [
    "conv_layer = nn.Conv2d(in_channels=3,\n",
    "                       out_channels=10,\n",
    "                       kernel_size=3,\n",
    "                       stride=1,\n",
    "                       padding=0) # also try using \"valid\" or \"same\" here \n",
    "\n",
    "# Pass the data through the convolutional layer\n",
    "conv_layer(test_image)"
   ]
  },
  {
   "cell_type": "code",
   "execution_count": null,
   "id": "b50c7f50",
   "metadata": {},
   "outputs": [],
   "source": [
    "conv_layer(test_image.unsqueeze(dim=0))"
   ]
  },
  {
   "cell_type": "code",
   "execution_count": 7,
   "id": "16ca23d6",
   "metadata": {},
   "outputs": [],
   "source": [
    "from torchtext import data"
   ]
  },
  {
   "cell_type": "code",
   "execution_count": 5,
   "id": "fe4e6f92",
   "metadata": {},
   "outputs": [],
   "source": [
    "import spacy\n"
   ]
  },
  {
   "cell_type": "code",
   "execution_count": 8,
   "id": "33f96689",
   "metadata": {},
   "outputs": [
    {
     "ename": "AttributeError",
     "evalue": "module 'spacy' has no attribute 'load'",
     "output_type": "error",
     "traceback": [
      "\u001b[1;31m---------------------------------------------------------------------------\u001b[0m",
      "\u001b[1;31mAttributeError\u001b[0m                            Traceback (most recent call last)",
      "\u001b[1;32m~\\AppData\\Local\\Temp\\ipykernel_9048\\4272914919.py\u001b[0m in \u001b[0;36m<module>\u001b[1;34m\u001b[0m\n\u001b[0;32m      1\u001b[0m \u001b[1;32mimport\u001b[0m \u001b[0mspacy\u001b[0m\u001b[1;33m\u001b[0m\u001b[1;33m\u001b[0m\u001b[0m\n\u001b[0;32m      2\u001b[0m \u001b[0mLABEL\u001b[0m \u001b[1;33m=\u001b[0m \u001b[0mdata\u001b[0m\u001b[1;33m.\u001b[0m\u001b[0mLabelField\u001b[0m\u001b[1;33m(\u001b[0m\u001b[1;33m)\u001b[0m\u001b[1;33m\u001b[0m\u001b[1;33m\u001b[0m\u001b[0m\n\u001b[1;32m----> 3\u001b[1;33m \u001b[0mnlp\u001b[0m \u001b[1;33m=\u001b[0m \u001b[0mspacy\u001b[0m\u001b[1;33m.\u001b[0m\u001b[0mload\u001b[0m\u001b[1;33m(\u001b[0m\u001b[1;34m\"en_core_web_sm\"\u001b[0m\u001b[1;33m)\u001b[0m\u001b[1;33m\u001b[0m\u001b[1;33m\u001b[0m\u001b[0m\n\u001b[0m",
      "\u001b[1;31mAttributeError\u001b[0m: module 'spacy' has no attribute 'load'"
     ]
    }
   ],
   "source": [
    "import spacy\n",
    "LABEL = data.LabelField()\n",
    "nlp = spacy.load(\"en_core_web_sm\")\n"
   ]
  },
  {
   "cell_type": "code",
   "execution_count": null,
   "id": "b1dfb6c8",
   "metadata": {},
   "outputs": [],
   "source": [
    "\n",
    "TWEET = data.Field(tokenize = 'spacy',lower = True)"
   ]
  },
  {
   "cell_type": "code",
   "execution_count": null,
   "id": "082aaaa2",
   "metadata": {},
   "outputs": [],
   "source": [
    "nlp = spacy.load('en')"
   ]
  },
  {
   "cell_type": "code",
   "execution_count": null,
   "id": "15b98541",
   "metadata": {},
   "outputs": [],
   "source": []
  },
  {
   "cell_type": "code",
   "execution_count": null,
   "id": "b1cc12ed",
   "metadata": {},
   "outputs": [],
   "source": []
  },
  {
   "cell_type": "code",
   "execution_count": null,
   "id": "0a376bfd",
   "metadata": {},
   "outputs": [],
   "source": []
  },
  {
   "cell_type": "code",
   "execution_count": null,
   "id": "8c56f87c",
   "metadata": {},
   "outputs": [],
   "source": []
  },
  {
   "cell_type": "markdown",
   "id": "3822d0aa",
   "metadata": {},
   "source": [
    "# "
   ]
  }
 ],
 "metadata": {
  "kernelspec": {
   "display_name": "Python 3 (ipykernel)",
   "language": "python",
   "name": "python3"
  },
  "language_info": {
   "codemirror_mode": {
    "name": "ipython",
    "version": 3
   },
   "file_extension": ".py",
   "mimetype": "text/x-python",
   "name": "python",
   "nbconvert_exporter": "python",
   "pygments_lexer": "ipython3",
   "version": "3.7.3"
  }
 },
 "nbformat": 4,
 "nbformat_minor": 5
}
