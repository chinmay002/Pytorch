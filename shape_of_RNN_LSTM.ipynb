{
  "nbformat": 4,
  "nbformat_minor": 0,
  "metadata": {
    "colab": {
      "provenance": []
    },
    "kernelspec": {
      "name": "python3",
      "display_name": "Python 3"
    },
    "language_info": {
      "name": "python"
    }
  },
  "cells": [
    {
      "cell_type": "code",
      "execution_count": null,
      "metadata": {
        "id": "QRbKgqcp9spV"
      },
      "outputs": [],
      "source": [
        "import torch\n",
        "import torch.nn as nn\n",
        "import torchvision\n",
        "import numpy as np\n",
        "import pandas as pd"
      ]
    },
    {
      "cell_type": "code",
      "source": [
        "def generate_sequences(n=128, variable_len=False, seed=13):\n",
        "    basic_corners = np.array([[-1, -1], [-1, 1], [1, 1], [1, -1]])\n",
        "    np.random.seed(seed)\n",
        "    bases = np.random.randint(4, size=n)\n",
        "    if variable_len:\n",
        "        lengths = np.random.randint(3, size=n) + 2\n",
        "    else:\n",
        "        lengths = [4] * n\n",
        "    directions = np.random.randint(2, size=n)\n",
        "    points = [basic_corners[[(b + i) % 4 for i in range(4)]][slice(None, None, d*2-1)][:l] + np.random.randn(l, 2) * 0.1 for b, d, l in zip(bases, directions, lengths)]\n",
        "    return points, directions"
      ],
      "metadata": {
        "id": "pdhv6imL90XA"
      },
      "execution_count": null,
      "outputs": []
    },
    {
      "cell_type": "code",
      "source": [
        "x = torch.randn((1,4,2)).float()\n",
        "x"
      ],
      "metadata": {
        "colab": {
          "base_uri": "https://localhost:8080/"
        },
        "id": "3orRGlGm90a4",
        "outputId": "a3465e24-e302-46dc-9e11-db30183da453"
      },
      "execution_count": null,
      "outputs": [
        {
          "output_type": "execute_result",
          "data": {
            "text/plain": [
              "tensor([[[ 2.1046,  0.9141],\n",
              "         [-0.5512,  1.3308],\n",
              "         [-0.9752, -0.9401],\n",
              "         [ 1.0307,  0.1510]]])"
            ]
          },
          "metadata": {},
          "execution_count": 24
        }
      ]
    },
    {
      "cell_type": "code",
      "source": [
        "rnn_stacked = nn.RNN(input_size=2,hidden_size=2, num_layers =2,batch_first =True)"
      ],
      "metadata": {
        "id": "hbXZjCYl90qI"
      },
      "execution_count": null,
      "outputs": []
    },
    {
      "cell_type": "code",
      "source": [
        "state = rnn_stacked.state_dict()\n",
        "state"
      ],
      "metadata": {
        "colab": {
          "base_uri": "https://localhost:8080/"
        },
        "id": "RELPtbZW90vT",
        "outputId": "3d68dace-bb2f-4342-f738-812511a7fdfd"
      },
      "execution_count": null,
      "outputs": [
        {
          "output_type": "execute_result",
          "data": {
            "text/plain": [
              "OrderedDict([('weight_ih_l0',\n",
              "              tensor([[-0.0368,  0.6444],\n",
              "                      [-0.1122,  0.2986]])),\n",
              "             ('weight_hh_l0',\n",
              "              tensor([[ 0.0425,  0.0104],\n",
              "                      [ 0.0133, -0.1654]])),\n",
              "             ('bias_ih_l0', tensor([0.4213, 0.4087])),\n",
              "             ('bias_hh_l0', tensor([-0.0919, -0.2846])),\n",
              "             ('weight_ih_l1',\n",
              "              tensor([[ 0.5321, -0.4178],\n",
              "                      [-0.5924,  0.5688]])),\n",
              "             ('weight_hh_l1',\n",
              "              tensor([[-0.3473,  0.1479],\n",
              "                      [-0.4552,  0.2986]])),\n",
              "             ('bias_ih_l1', tensor([-0.0691, -0.4289])),\n",
              "             ('bias_hh_l1', tensor([-0.6838,  0.2752]))])"
            ]
          },
          "metadata": {},
          "execution_count": 26
        }
      ]
    },
    {
      "cell_type": "code",
      "source": [
        "rnn_layer0 = nn.RNN(input_size=2,hidden_size=2,batch_first = True)\n",
        "rnn_layer1 = nn.RNN(input_size=2,hidden_size=2,batch_first = True)\n",
        "\n",
        "rnn_layer0.load_state_dict(dict(list(state.items())[:4]))\n",
        "rnn_layer1.load_state_dict(dict([(k[:-1]+'0',v) for k,v in list(state.items())[4:]]))"
      ],
      "metadata": {
        "colab": {
          "base_uri": "https://localhost:8080/"
        },
        "id": "3518GJT1-w17",
        "outputId": "bed09e0e-1089-466e-d44c-8324da0b0e7d"
      },
      "execution_count": null,
      "outputs": [
        {
          "output_type": "execute_result",
          "data": {
            "text/plain": [
              "<All keys matched successfully>"
            ]
          },
          "metadata": {},
          "execution_count": 27
        }
      ]
    },
    {
      "cell_type": "code",
      "source": [
        "out0 , hidden0 = rnn_layer0(x.float())"
      ],
      "metadata": {
        "id": "UiJTxEBw-w4-"
      },
      "execution_count": null,
      "outputs": []
    },
    {
      "cell_type": "code",
      "source": [
        "print(out0.shape,hidden0.shape)"
      ],
      "metadata": {
        "colab": {
          "base_uri": "https://localhost:8080/"
        },
        "id": "b6ErUTRf-w8G",
        "outputId": "d14c6042-bdb0-498c-a343-a4d0781f073a"
      },
      "execution_count": null,
      "outputs": [
        {
          "output_type": "stream",
          "name": "stdout",
          "text": [
            "torch.Size([1, 4, 2]) torch.Size([1, 1, 2])\n"
          ]
        }
      ]
    },
    {
      "cell_type": "code",
      "source": [
        "out1 , hidden1 = rnn_layer1(out0)\n",
        "print(out0.shape,hidden0.shape)"
      ],
      "metadata": {
        "colab": {
          "base_uri": "https://localhost:8080/"
        },
        "id": "klbjJy8tBiPc",
        "outputId": "276222b4-50b2-4ff7-c9f3-be85531d72fa"
      },
      "execution_count": null,
      "outputs": [
        {
          "output_type": "stream",
          "name": "stdout",
          "text": [
            "torch.Size([1, 4, 2]) torch.Size([1, 1, 2])\n"
          ]
        }
      ]
    },
    {
      "cell_type": "code",
      "source": [
        "out1, torch.cat([hidden0,hidden1])"
      ],
      "metadata": {
        "colab": {
          "base_uri": "https://localhost:8080/"
        },
        "id": "_LgUddIKCYOP",
        "outputId": "65f30c8b-a1e4-4c15-9dce-7b92b19dc283"
      },
      "execution_count": null,
      "outputs": [
        {
          "output_type": "execute_result",
          "data": {
            "text/plain": [
              "(tensor([[[-0.4255, -0.4378],\n",
              "          [-0.4090, -0.2910],\n",
              "          [-0.6097, -0.0062],\n",
              "          [-0.3619, -0.0522]]], grad_fn=<TransposeBackward1>),\n",
              " tensor([[[ 0.3620,  0.0707]],\n",
              " \n",
              "         [[-0.3619, -0.0522]]], grad_fn=<CatBackward0>))"
            ]
          },
          "metadata": {},
          "execution_count": 33
        }
      ]
    },
    {
      "cell_type": "code",
      "source": [
        "torch.cat([hidden0,hidden1]).shape"
      ],
      "metadata": {
        "colab": {
          "base_uri": "https://localhost:8080/"
        },
        "id": "M-PCN48ZCgJE",
        "outputId": "bc58b9e1-bb5c-4196-b6ed-34f5f3f512f2"
      },
      "execution_count": null,
      "outputs": [
        {
          "output_type": "execute_result",
          "data": {
            "text/plain": [
              "torch.Size([2, 1, 2])"
            ]
          },
          "metadata": {},
          "execution_count": 34
        }
      ]
    },
    {
      "cell_type": "code",
      "source": [
        "out,h = rnn_stacked(x)\n",
        "print(out,h)\n",
        "print(out.shape,h.shape)"
      ],
      "metadata": {
        "colab": {
          "base_uri": "https://localhost:8080/"
        },
        "id": "XdB8WK8IC192",
        "outputId": "0409c08b-81c8-4d8d-c9da-fb923237efa2"
      },
      "execution_count": null,
      "outputs": [
        {
          "output_type": "stream",
          "name": "stdout",
          "text": [
            "tensor([[[-0.4255, -0.4378],\n",
            "         [-0.4090, -0.2910],\n",
            "         [-0.6097, -0.0062],\n",
            "         [-0.3619, -0.0522]]], grad_fn=<TransposeBackward1>) tensor([[[ 0.3620,  0.0707]],\n",
            "\n",
            "        [[-0.3619, -0.0522]]], grad_fn=<StackBackward0>)\n",
            "torch.Size([1, 4, 2]) torch.Size([2, 1, 2])\n"
          ]
        }
      ]
    },
    {
      "cell_type": "markdown",
      "source": [
        "**BI-Directional RNN**"
      ],
      "metadata": {
        "id": "E6MiL5U_Ps6j"
      }
    },
    {
      "cell_type": "code",
      "source": [
        "rnn_bid = nn.RNN(input_size=2,hidden_size=2,batch_first =True,bidirectional =True)\n",
        "state  = rnn_bid.state_dict()\n",
        "state"
      ],
      "metadata": {
        "colab": {
          "base_uri": "https://localhost:8080/"
        },
        "id": "DLBMhNiXPlUA",
        "outputId": "38010ea7-7f01-4151-bb03-b797c535cc91"
      },
      "execution_count": null,
      "outputs": [
        {
          "output_type": "execute_result",
          "data": {
            "text/plain": [
              "OrderedDict([('weight_ih_l0',\n",
              "              tensor([[ 0.6687, -0.6328],\n",
              "                      [-0.1181, -0.0797]])),\n",
              "             ('weight_hh_l0',\n",
              "              tensor([[-0.1407,  0.2852],\n",
              "                      [ 0.3560,  0.0532]])),\n",
              "             ('bias_ih_l0', tensor([-0.0754,  0.6367])),\n",
              "             ('bias_hh_l0', tensor([ 0.1014, -0.2713])),\n",
              "             ('weight_ih_l0_reverse',\n",
              "              tensor([[ 0.6612, -0.3805],\n",
              "                      [ 0.6779, -0.6743]])),\n",
              "             ('weight_hh_l0_reverse',\n",
              "              tensor([[-0.4944, -0.6651],\n",
              "                      [-0.0349,  0.5139]])),\n",
              "             ('bias_ih_l0_reverse', tensor([ 0.1482, -0.6304])),\n",
              "             ('bias_hh_l0_reverse', tensor([ 0.5152, -0.4710]))])"
            ]
          },
          "metadata": {},
          "execution_count": 45
        }
      ]
    },
    {
      "cell_type": "code",
      "source": [
        "rnn_forward = nn.RNN(input_size=2,hidden_size=2,batch_first = True)\n",
        "rnn_reverse = nn.RNN(input_size=2,hidden_size=2,batch_first = True)\n",
        "\n",
        "\n",
        "rnn_forward.load_state_dict(dict(list(state.items())[:4]))\n",
        "rnn_reverse.load_state_dict( dict([(k[:-8],v)  for k, v in list(state.items())[4:]]))"
      ],
      "metadata": {
        "colab": {
          "base_uri": "https://localhost:8080/"
        },
        "id": "077U0FaGPlXL",
        "outputId": "1141ad69-2f35-4021-d5de-e18bb21c9021"
      },
      "execution_count": null,
      "outputs": [
        {
          "output_type": "execute_result",
          "data": {
            "text/plain": [
              "<All keys matched successfully>"
            ]
          },
          "metadata": {},
          "execution_count": 46
        }
      ]
    },
    {
      "cell_type": "code",
      "source": [
        "x_rev = torch.flip(x,dims = [1])       #N , L , H\n",
        "\n",
        "print(x)\n",
        "print(x_rev)"
      ],
      "metadata": {
        "colab": {
          "base_uri": "https://localhost:8080/"
        },
        "id": "n0MtFO7RQwRu",
        "outputId": "b7801d87-efe0-4d30-99a6-df713ac2b822"
      },
      "execution_count": null,
      "outputs": [
        {
          "output_type": "stream",
          "name": "stdout",
          "text": [
            "tensor([[[ 2.1046,  0.9141],\n",
            "         [-0.5512,  1.3308],\n",
            "         [-0.9752, -0.9401],\n",
            "         [ 1.0307,  0.1510]]])\n",
            "tensor([[[ 1.0307,  0.1510],\n",
            "         [-0.9752, -0.9401],\n",
            "         [-0.5512,  1.3308],\n",
            "         [ 2.1046,  0.9141]]])\n"
          ]
        }
      ]
    },
    {
      "cell_type": "code",
      "source": [
        "out, h =rnn_forward(x)\n",
        "out_rev,h_rev = rnn_reverse(x_rev)"
      ],
      "metadata": {
        "id": "3k0NLHKyQwXY"
      },
      "execution_count": null,
      "outputs": []
    },
    {
      "cell_type": "code",
      "source": [
        "print(out.shape,h.shape)\n",
        "print(out_rev.shape,h_rev.shape)"
      ],
      "metadata": {
        "colab": {
          "base_uri": "https://localhost:8080/"
        },
        "id": "BapC0czLQwaB",
        "outputId": "01ce706a-50f9-4abe-aba1-2f2ba7687ded"
      },
      "execution_count": null,
      "outputs": [
        {
          "output_type": "stream",
          "name": "stdout",
          "text": [
            "torch.Size([1, 4, 2]) torch.Size([1, 1, 2])\n",
            "torch.Size([1, 4, 2]) torch.Size([1, 1, 2])\n"
          ]
        }
      ]
    },
    {
      "cell_type": "code",
      "source": [
        "print(out)\n",
        "print(out_rev)"
      ],
      "metadata": {
        "colab": {
          "base_uri": "https://localhost:8080/"
        },
        "id": "3G04pdkWQwct",
        "outputId": "61cccd85-ccf8-4ddf-f7c7-3fbaafd6eef1"
      },
      "execution_count": null,
      "outputs": [
        {
          "output_type": "stream",
          "name": "stdout",
          "text": [
            "tensor([[[ 0.6937,  0.0438],\n",
            "         [-0.8537,  0.5180],\n",
            "         [ 0.2324,  0.2721],\n",
            "         [ 0.5814,  0.3174]]], grad_fn=<TransposeBackward1>)\n",
            "tensor([[[ 0.8584, -0.4658],\n",
            "         [ 0.2558, -0.8849],\n",
            "         [ 0.2493, -0.9931],\n",
            "         [ 0.9778, -0.6697]]], grad_fn=<TransposeBackward1>)\n"
          ]
        }
      ]
    },
    {
      "cell_type": "code",
      "source": [
        "out_rev_back = torch.flip(out_rev,dims=[1])\n",
        "out_rev_back"
      ],
      "metadata": {
        "colab": {
          "base_uri": "https://localhost:8080/"
        },
        "id": "Uvar9gDwScw0",
        "outputId": "978387d3-ab45-43d0-8d3a-cd3017caf5ea"
      },
      "execution_count": null,
      "outputs": [
        {
          "output_type": "execute_result",
          "data": {
            "text/plain": [
              "tensor([[[ 0.9778, -0.6697],\n",
              "         [ 0.2493, -0.9931],\n",
              "         [ 0.2558, -0.8849],\n",
              "         [ 0.8584, -0.4658]]], grad_fn=<FlipBackward0>)"
            ]
          },
          "metadata": {},
          "execution_count": 56
        }
      ]
    },
    {
      "cell_type": "code",
      "source": [
        "torch.cat([out,out_rev_back],dim=2).shape"
      ],
      "metadata": {
        "colab": {
          "base_uri": "https://localhost:8080/"
        },
        "id": "pTwPzmIkSn1J",
        "outputId": "2dd8e705-929a-42ab-8112-f49a4f7a25d0"
      },
      "execution_count": null,
      "outputs": [
        {
          "output_type": "execute_result",
          "data": {
            "text/plain": [
              "torch.Size([1, 4, 4])"
            ]
          },
          "metadata": {},
          "execution_count": 60
        }
      ]
    },
    {
      "cell_type": "code",
      "source": [
        "torch.cat([out,out_rev_back],dim=2) , torch.cat([h,h_rev])"
      ],
      "metadata": {
        "colab": {
          "base_uri": "https://localhost:8080/"
        },
        "id": "UkUR6RQmPlaD",
        "outputId": "e45f04fa-d847-44c4-ecb2-52de7ede7b7e"
      },
      "execution_count": null,
      "outputs": [
        {
          "output_type": "execute_result",
          "data": {
            "text/plain": [
              "(tensor([[[ 0.6937,  0.0438,  0.9778, -0.6697],\n",
              "          [-0.8537,  0.5180,  0.2493, -0.9931],\n",
              "          [ 0.2324,  0.2721,  0.2558, -0.8849],\n",
              "          [ 0.5814,  0.3174,  0.8584, -0.4658]]], grad_fn=<CatBackward0>),\n",
              " tensor([[[ 0.5814,  0.3174]],\n",
              " \n",
              "         [[ 0.9778, -0.6697]]], grad_fn=<CatBackward0>))"
            ]
          },
          "metadata": {},
          "execution_count": 62
        }
      ]
    },
    {
      "cell_type": "markdown",
      "source": [
        "**LSTM**"
      ],
      "metadata": {
        "id": "O6ZOURCHBbAA"
      }
    },
    {
      "cell_type": "code",
      "source": [],
      "metadata": {
        "id": "rQALJL42BaLS"
      },
      "execution_count": null,
      "outputs": []
    },
    {
      "cell_type": "code",
      "source": [],
      "metadata": {
        "id": "4nKNMQtdBaO4"
      },
      "execution_count": null,
      "outputs": []
    },
    {
      "cell_type": "code",
      "source": [],
      "metadata": {
        "id": "6wo9gWAqBaRf"
      },
      "execution_count": null,
      "outputs": []
    },
    {
      "cell_type": "code",
      "source": [
        "b"
      ],
      "metadata": {
        "id": "PwsnLhp2BaUM"
      },
      "execution_count": null,
      "outputs": []
    },
    {
      "cell_type": "code",
      "source": [],
      "metadata": {
        "id": "CJVs3XBoBaZl"
      },
      "execution_count": null,
      "outputs": []
    }
  ]
}