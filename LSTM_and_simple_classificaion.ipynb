{
  "nbformat": 4,
  "nbformat_minor": 0,
  "metadata": {
    "colab": {
      "provenance": [],
      "authorship_tag": "ABX9TyNeAk7lzYdZPSe9Iaj6WcTG",
      "include_colab_link": true
    },
    "kernelspec": {
      "name": "python3",
      "display_name": "Python 3"
    },
    "language_info": {
      "name": "python"
    }
  },
  "cells": [
    {
      "cell_type": "markdown",
      "metadata": {
        "id": "view-in-github",
        "colab_type": "text"
      },
      "source": [
        "<a href=\"https://colab.research.google.com/github/chinmay002/Pytorch/blob/main/LSTM_and_simple_classificaion.ipynb\" target=\"_parent\"><img src=\"https://colab.research.google.com/assets/colab-badge.svg\" alt=\"Open In Colab\"/></a>"
      ]
    },
    {
      "cell_type": "code",
      "execution_count": 1,
      "metadata": {
        "id": "CV1oh6ZIsKl5"
      },
      "outputs": [],
      "source": [
        "import pandas as pd\n",
        "import numpy as np\n",
        "import torch\n",
        "import re,json,string,os\n",
        "import collections\n",
        "from collections import Counter\n",
        "import torch.nn as nn\n",
        "import torch.nn.functional as F\n",
        "import torch.optim as optim\n",
        "from torch.utils.data import Dataset, DataLoader\n",
        "from tqdm import tqdm_notebook"
      ]
    },
    {
      "cell_type": "code",
      "source": [
        "n_features= 2\n",
        "hidden_dim =2\n",
        "\n",
        "torch.manual_seed(17)\n",
        "lstm_cell = nn.LSTMCell(input_size = n_features,hidden_size = hidden_dim)\n",
        "lstm_state = lstm_cell.state_dict()\n",
        "lstm_state"
      ],
      "metadata": {
        "colab": {
          "base_uri": "https://localhost:8080/"
        },
        "id": "uc6cLmLesMtE",
        "outputId": "265ccb03-9e2a-473c-c331-f47b2196081b"
      },
      "execution_count": 2,
      "outputs": [
        {
          "output_type": "execute_result",
          "data": {
            "text/plain": [
              "OrderedDict([('weight_ih',\n",
              "              tensor([[-0.0930,  0.0497],\n",
              "                      [ 0.4670, -0.5319],\n",
              "                      [-0.6656,  0.0699],\n",
              "                      [-0.1662,  0.0654],\n",
              "                      [-0.0449, -0.6828],\n",
              "                      [-0.6769, -0.1889],\n",
              "                      [-0.4167, -0.4352],\n",
              "                      [-0.2060, -0.3989]])),\n",
              "             ('weight_hh',\n",
              "              tensor([[-0.7070, -0.5083],\n",
              "                      [ 0.1418,  0.0930],\n",
              "                      [-0.5729, -0.5700],\n",
              "                      [-0.1818, -0.6691],\n",
              "                      [-0.4316,  0.4019],\n",
              "                      [ 0.1222, -0.4647],\n",
              "                      [-0.5578,  0.4493],\n",
              "                      [-0.6800,  0.4422]])),\n",
              "             ('bias_ih',\n",
              "              tensor([-0.3559, -0.0279,  0.6553,  0.2918,  0.4007,  0.3262, -0.0778, -0.3002])),\n",
              "             ('bias_hh',\n",
              "              tensor([-0.3991, -0.3200,  0.3483, -0.2604, -0.1582,  0.5558,  0.5761, -0.3919]))])"
            ]
          },
          "metadata": {},
          "execution_count": 2
        }
      ]
    },
    {
      "cell_type": "code",
      "source": [
        "Wx,bx = lstm_state['weight_ih'],lstm_state['bias_ih']\n",
        "Wh,bh = lstm_state['weight_hh'],lstm_state['bias_hh']\n",
        "\n",
        "print(Wx.shape,bx.shape)"
      ],
      "metadata": {
        "colab": {
          "base_uri": "https://localhost:8080/"
        },
        "id": "nSK5BmzDsMwz",
        "outputId": "54dde62f-c7ec-4e0e-d967-341de62c35b2"
      },
      "execution_count": 3,
      "outputs": [
        {
          "output_type": "stream",
          "name": "stdout",
          "text": [
            "torch.Size([8, 2]) torch.Size([8])\n"
          ]
        }
      ]
    },
    {
      "cell_type": "code",
      "source": [
        "Wxi,Wxf,Wxg,Wxo = Wx.split(hidden_dim) \n",
        "bxi,bxf,bxg,bxo = bx.split(hidden_dim) \n",
        "Whi,Whf,Whg,Who = Wh.split(hidden_dim) \n",
        "bhi,bhf,bhg,bho = bh.split(hidden_dim) "
      ],
      "metadata": {
        "id": "qESXWZwYsMzS"
      },
      "execution_count": 10,
      "outputs": []
    },
    {
      "cell_type": "code",
      "source": [
        "print(Wxi.shape,Wxf.shape,Wxg.shape,Wxo.shape)"
      ],
      "metadata": {
        "colab": {
          "base_uri": "https://localhost:8080/"
        },
        "id": "_lkdJXzosM2T",
        "outputId": "c5e82b42-8339-4c3d-cb28-24cff1f20a19"
      },
      "execution_count": 11,
      "outputs": [
        {
          "output_type": "stream",
          "name": "stdout",
          "text": [
            "torch.Size([2, 2]) torch.Size([2, 2]) torch.Size([2, 2]) torch.Size([2, 2])\n"
          ]
        }
      ]
    },
    {
      "cell_type": "code",
      "source": [
        "def linear_layer(Wx,bx,Wh,bh):\n",
        "  hidden_dim , n_feat = Wx.size()#(2,2)\n",
        "  lin_input = nn.Linear(n_feat,hidden_dim)\n",
        "  lin_input.load_state_dict({'weight':Wx,'bias':bx})\n",
        "  lin_hidden = nn.Linear(hidden_dim,hidden_dim)\n",
        "  lin_hidden.load_state_dict({'weight':Wh,'bias':bh})\n",
        "\n",
        "  return lin_hidden,lin_input"
      ],
      "metadata": {
        "id": "xvTvYY6QsM5F"
      },
      "execution_count": 13,
      "outputs": []
    },
    {
      "cell_type": "code",
      "source": [
        "i_hidden,i_input = linear_layer(Wxi,bxi,Whi,bhi)\n",
        "f_hidden,f_input = linear_layer(Wxf,bxf,Whf,bhf)\n",
        "o_hidden,o_input = linear_layer(Wxo,bxo,Who,bho)\n",
        "#these are gates, we need to create functions for the,/\n",
        "\n",
        "#for g , since its an RNN cell, we load_dict to create \n",
        "g_cell = nn.RNNCell(2,2)\n",
        "g_cell.load_state_dict({'weight_ih':Wxg,'bias_ih':bxg,'weight_hh':Whg,'bias_hh':bhg})"
      ],
      "metadata": {
        "colab": {
          "base_uri": "https://localhost:8080/"
        },
        "id": "M2nA4t_LsM7z",
        "outputId": "043112d6-6dcb-47dd-dda9-1df9f1b1a7dc"
      },
      "execution_count": 17,
      "outputs": [
        {
          "output_type": "execute_result",
          "data": {
            "text/plain": [
              "<All keys matched successfully>"
            ]
          },
          "metadata": {},
          "execution_count": 17
        }
      ]
    },
    {
      "cell_type": "code",
      "source": [
        "def forget_gate(h,x):\n",
        "  thf = f_hidden(h)\n",
        "  txf = f_input(x)\n",
        "  f = torch.sigmoid(thf+txf)\n",
        "  return f\n",
        "\n",
        "def output_gate(h,x):\n",
        "  tho = o_hidden(h)\n",
        "  txo = o_input(x)\n",
        "  o = torch.sigmoid(tho+txo)\n",
        "  return o\n",
        "\n",
        "def input_gate(h,x):\n",
        "  thi = i_hidden(h)\n",
        "  txi = i_input(x)\n",
        "  i = torch.sigmoid(thi+txi)\n",
        "  return i    "
      ],
      "metadata": {
        "id": "WgS4YIrksM-0"
      },
      "execution_count": 15,
      "outputs": []
    },
    {
      "cell_type": "code",
      "source": [
        "#inital hidden vlaues\n",
        "initial_hidden = torch.zeros(1,hidden_dim)\n",
        "initial_cell = torch.zeros(1,hidden_dim)\n",
        "\n",
        "X = torch.as_tensor([[ 1.0349,  0.9661]])\n",
        "\n",
        "g = g_cell(X)\n",
        "print(g)\n",
        "i = input_gate(initial_hidden,X)\n",
        "gated_input = g*i\n",
        "print(gated_input)\n",
        "\n",
        "f = forget_gate(initial_hidden,X)\n",
        "print(f)\n",
        "c_ = (f*initial_cell) + (gated_input)\n",
        "print(c_)\n",
        "\n",
        "\n",
        "o = output_gate(initial_hidden,X)\n",
        "print(o)\n",
        "h_ = o*torch.tanh(c_)\n",
        "print(h_)"
      ],
      "metadata": {
        "colab": {
          "base_uri": "https://localhost:8080/"
        },
        "id": "1ZRCoG4YxqX-",
        "outputId": "8a5845d8-0e1d-4631-e950-1978ea19f925"
      },
      "execution_count": 23,
      "outputs": [
        {
          "output_type": "stream",
          "name": "stdout",
          "text": [
            "tensor([[-0.4330, -0.0010]], grad_fn=<TanhBackward0>)\n",
            "tensor([[-0.1339, -0.0004]], grad_fn=<MulBackward0>)\n",
            "tensor([[0.5944, 0.4807]], grad_fn=<SigmoidBackward0>)\n",
            "tensor([[-0.1339, -0.0004]], grad_fn=<AddBackward0>)\n",
            "tensor([[0.4126, 0.2157]], grad_fn=<SigmoidBackward0>)\n",
            "tensor([[-5.4934e-02, -8.4665e-05]], grad_fn=<MulBackward0>)\n"
          ]
        }
      ]
    },
    {
      "cell_type": "code",
      "source": [
        "lstm_cell(X)"
      ],
      "metadata": {
        "colab": {
          "base_uri": "https://localhost:8080/"
        },
        "id": "5sCksWRusNBy",
        "outputId": "baf255dc-7aee-44b3-cd99-7c0663d36106"
      },
      "execution_count": 24,
      "outputs": [
        {
          "output_type": "execute_result",
          "data": {
            "text/plain": [
              "(tensor([[-5.4934e-02, -8.4665e-05]], grad_fn=<MulBackward0>),\n",
              " tensor([[-0.1339, -0.0004]], grad_fn=<AddBackward0>))"
            ]
          },
          "metadata": {},
          "execution_count": 24
        }
      ]
    },
    {
      "cell_type": "markdown",
      "source": [
        "**Variable_Length Sequences**"
      ],
      "metadata": {
        "id": "-nUWrPM-zywk"
      }
    },
    {
      "cell_type": "code",
      "source": [
        "X = torch.as_tensor([[ 1.0349,  0.9661],\n",
        "        [ 0.8055, -0.9169],\n",
        "        [-0.8251, -0.9499],\n",
        "        [-0.8670,  0.9342]])\n",
        "X.shape"
      ],
      "metadata": {
        "colab": {
          "base_uri": "https://localhost:8080/"
        },
        "id": "sZDV0VzgsNEz",
        "outputId": "5bc83d91-81c3-4d09-e805-3eebcfd2f73d"
      },
      "execution_count": 26,
      "outputs": [
        {
          "output_type": "execute_result",
          "data": {
            "text/plain": [
              "torch.Size([4, 2])"
            ]
          },
          "metadata": {},
          "execution_count": 26
        }
      ]
    },
    {
      "cell_type": "code",
      "source": [
        "x0 = torch.randn((4, 2))\n",
        "x1 = torch.randn((2, 2))\n",
        "x2 = torch.randn((3, 2))"
      ],
      "metadata": {
        "id": "TJwjaYS9sNHi"
      },
      "execution_count": 28,
      "outputs": []
    },
    {
      "cell_type": "code",
      "source": [
        "print(x0.shape,x1.shape,x2.shape)"
      ],
      "metadata": {
        "colab": {
          "base_uri": "https://localhost:8080/"
        },
        "id": "15b21Ln4sNKS",
        "outputId": "39d9854d-c4c8-4226-e45b-9a2126ca7265"
      },
      "execution_count": 29,
      "outputs": [
        {
          "output_type": "stream",
          "name": "stdout",
          "text": [
            "torch.Size([4, 2]) torch.Size([2, 2]) torch.Size([3, 2])\n"
          ]
        }
      ]
    },
    {
      "cell_type": "code",
      "source": [
        "#since they have different shape, we cannot combine them to make a list since.\n",
        "all_seqs = [x0,x1,x2]\n",
        "torch.as_tensor(all_seqs)"
      ],
      "metadata": {
        "colab": {
          "base_uri": "https://localhost:8080/",
          "height": 200
        },
        "id": "qvxKL82msNNC",
        "outputId": "bab56d7b-405f-4499-a7b4-5978844d29cb"
      },
      "execution_count": 33,
      "outputs": [
        {
          "output_type": "error",
          "ename": "ValueError",
          "evalue": "ignored",
          "traceback": [
            "\u001b[0;31m---------------------------------------------------------------------------\u001b[0m",
            "\u001b[0;31mValueError\u001b[0m                                Traceback (most recent call last)",
            "\u001b[0;32m<ipython-input-33-63f755ab0ca1>\u001b[0m in \u001b[0;36m<cell line: 3>\u001b[0;34m()\u001b[0m\n\u001b[1;32m      1\u001b[0m \u001b[0;31m#since they have different shape, we cannot combine them to make a list since.\u001b[0m\u001b[0;34m\u001b[0m\u001b[0;34m\u001b[0m\u001b[0m\n\u001b[1;32m      2\u001b[0m \u001b[0mall_seqs\u001b[0m \u001b[0;34m=\u001b[0m \u001b[0;34m[\u001b[0m\u001b[0mx0\u001b[0m\u001b[0;34m,\u001b[0m\u001b[0mx1\u001b[0m\u001b[0;34m,\u001b[0m\u001b[0mx2\u001b[0m\u001b[0;34m]\u001b[0m\u001b[0;34m\u001b[0m\u001b[0;34m\u001b[0m\u001b[0m\n\u001b[0;32m----> 3\u001b[0;31m \u001b[0mtorch\u001b[0m\u001b[0;34m.\u001b[0m\u001b[0mas_tensor\u001b[0m\u001b[0;34m(\u001b[0m\u001b[0mall_seqs\u001b[0m\u001b[0;34m)\u001b[0m\u001b[0;34m\u001b[0m\u001b[0;34m\u001b[0m\u001b[0m\n\u001b[0m",
            "\u001b[0;31mValueError\u001b[0m: only one element tensors can be converted to Python scalars"
          ]
        }
      ]
    },
    {
      "cell_type": "code",
      "source": [
        "seq_tensor = [torch.as_tensor(seq).float() for seq in all_seqs] \n",
        "padded = nn.utils.rnn.pad_sequence(seq_tensor,batch_first=True)\n",
        "padded.shape"
      ],
      "metadata": {
        "colab": {
          "base_uri": "https://localhost:8080/"
        },
        "id": "3Nsar7Q5sNPz",
        "outputId": "8b9ebfb5-017f-4005-9d9b-166ba6b4f12c"
      },
      "execution_count": 37,
      "outputs": [
        {
          "output_type": "execute_result",
          "data": {
            "text/plain": [
              "torch.Size([3, 4, 2])"
            ]
          },
          "metadata": {},
          "execution_count": 37
        }
      ]
    },
    {
      "cell_type": "code",
      "source": [
        "rnn = nn.RNN(2,2,batch_first=True)\n",
        "output,hidden = rnn(padded)\n",
        "output,hidden"
      ],
      "metadata": {
        "colab": {
          "base_uri": "https://localhost:8080/"
        },
        "id": "D4OeoG3I4xYb",
        "outputId": "156db87a-87a5-4df9-ea21-7024f32be161"
      },
      "execution_count": 39,
      "outputs": [
        {
          "output_type": "execute_result",
          "data": {
            "text/plain": [
              "(tensor([[[ 0.0983,  0.5139],\n",
              "          [-0.2063,  0.7669],\n",
              "          [ 0.1308,  0.6461],\n",
              "          [-0.4824,  0.8739]],\n",
              " \n",
              "         [[ 0.4446,  0.3512],\n",
              "          [ 0.1001,  0.5156],\n",
              "          [ 0.0751,  0.5899],\n",
              "          [ 0.0532,  0.5817]],\n",
              " \n",
              "         [[ 0.1895,  0.8576],\n",
              "          [-0.4430,  0.8226],\n",
              "          [ 0.3189,  0.6641],\n",
              "          [ 0.1922,  0.4961]]], grad_fn=<TransposeBackward1>),\n",
              " tensor([[[-0.4824,  0.8739],\n",
              "          [ 0.0532,  0.5817],\n",
              "          [ 0.1922,  0.4961]]], grad_fn=<StackBackward0>))"
            ]
          },
          "metadata": {},
          "execution_count": 39
        }
      ]
    },
    {
      "cell_type": "code",
      "source": [
        "output[-1][-1] == hidden[-1][-1]"
      ],
      "metadata": {
        "colab": {
          "base_uri": "https://localhost:8080/"
        },
        "id": "REGZcAiC5IZp",
        "outputId": "d92cda2a-a94d-4af5-e0fa-f729c10d1a91"
      },
      "execution_count": 43,
      "outputs": [
        {
          "output_type": "execute_result",
          "data": {
            "text/plain": [
              "tensor([True, True])"
            ]
          },
          "metadata": {},
          "execution_count": 43
        }
      ]
    },
    {
      "cell_type": "code",
      "source": [
        "import seaborn as sns\n",
        "import pandas as pd\n",
        "import numpy as np\n",
        "import os\n",
        "import json\n",
        "import re\n",
        "import torch.nn as nn\n",
        "import torchvision\n",
        "from torch.optim import optimizer\n",
        "from torch.utils.data import Dataset, dataloader\n",
        "import torch.nn.functional as f"
      ],
      "metadata": {
        "id": "iVaXq2Z9-2Jm"
      },
      "execution_count": 44,
      "outputs": []
    },
    {
      "cell_type": "code",
      "source": [
        "df = pd.read_csv('/content/women_sentiment.csv').iloc[:,1:]\n",
        "df.head()"
      ],
      "metadata": {
        "colab": {
          "base_uri": "https://localhost:8080/",
          "height": 441
        },
        "id": "KMv6vZIT-2NV",
        "outputId": "0cd0b681-9486-4db6-8aaf-7f89370efc98"
      },
      "execution_count": 48,
      "outputs": [
        {
          "output_type": "execute_result",
          "data": {
            "text/plain": [
              "   Clothing ID  Age                    Title  \\\n",
              "0          767   33                      NaN   \n",
              "1         1080   34                      NaN   \n",
              "2         1077   60  Some major design flaws   \n",
              "3         1049   50         My favorite buy!   \n",
              "4          847   47         Flattering shirt   \n",
              "\n",
              "                                         Review Text  Rating  Recommended IND  \\\n",
              "0  Absolutely wonderful - silky and sexy and comf...       4                1   \n",
              "1  Love this dress!  it's sooo pretty.  i happene...       5                1   \n",
              "2  I had such high hopes for this dress and reall...       3                0   \n",
              "3  I love, love, love this jumpsuit. it's fun, fl...       5                1   \n",
              "4  This shirt is very flattering to all due to th...       5                1   \n",
              "\n",
              "   Positive Feedback Count   Division Name Department Name Class Name  \n",
              "0                        0       Initmates        Intimate  Intimates  \n",
              "1                        4         General         Dresses    Dresses  \n",
              "2                        0         General         Dresses    Dresses  \n",
              "3                        0  General Petite         Bottoms      Pants  \n",
              "4                        6         General            Tops    Blouses  "
            ],
            "text/html": [
              "\n",
              "  <div id=\"df-a65ca9c9-2121-4863-b683-309fcb5a4528\">\n",
              "    <div class=\"colab-df-container\">\n",
              "      <div>\n",
              "<style scoped>\n",
              "    .dataframe tbody tr th:only-of-type {\n",
              "        vertical-align: middle;\n",
              "    }\n",
              "\n",
              "    .dataframe tbody tr th {\n",
              "        vertical-align: top;\n",
              "    }\n",
              "\n",
              "    .dataframe thead th {\n",
              "        text-align: right;\n",
              "    }\n",
              "</style>\n",
              "<table border=\"1\" class=\"dataframe\">\n",
              "  <thead>\n",
              "    <tr style=\"text-align: right;\">\n",
              "      <th></th>\n",
              "      <th>Clothing ID</th>\n",
              "      <th>Age</th>\n",
              "      <th>Title</th>\n",
              "      <th>Review Text</th>\n",
              "      <th>Rating</th>\n",
              "      <th>Recommended IND</th>\n",
              "      <th>Positive Feedback Count</th>\n",
              "      <th>Division Name</th>\n",
              "      <th>Department Name</th>\n",
              "      <th>Class Name</th>\n",
              "    </tr>\n",
              "  </thead>\n",
              "  <tbody>\n",
              "    <tr>\n",
              "      <th>0</th>\n",
              "      <td>767</td>\n",
              "      <td>33</td>\n",
              "      <td>NaN</td>\n",
              "      <td>Absolutely wonderful - silky and sexy and comf...</td>\n",
              "      <td>4</td>\n",
              "      <td>1</td>\n",
              "      <td>0</td>\n",
              "      <td>Initmates</td>\n",
              "      <td>Intimate</td>\n",
              "      <td>Intimates</td>\n",
              "    </tr>\n",
              "    <tr>\n",
              "      <th>1</th>\n",
              "      <td>1080</td>\n",
              "      <td>34</td>\n",
              "      <td>NaN</td>\n",
              "      <td>Love this dress!  it's sooo pretty.  i happene...</td>\n",
              "      <td>5</td>\n",
              "      <td>1</td>\n",
              "      <td>4</td>\n",
              "      <td>General</td>\n",
              "      <td>Dresses</td>\n",
              "      <td>Dresses</td>\n",
              "    </tr>\n",
              "    <tr>\n",
              "      <th>2</th>\n",
              "      <td>1077</td>\n",
              "      <td>60</td>\n",
              "      <td>Some major design flaws</td>\n",
              "      <td>I had such high hopes for this dress and reall...</td>\n",
              "      <td>3</td>\n",
              "      <td>0</td>\n",
              "      <td>0</td>\n",
              "      <td>General</td>\n",
              "      <td>Dresses</td>\n",
              "      <td>Dresses</td>\n",
              "    </tr>\n",
              "    <tr>\n",
              "      <th>3</th>\n",
              "      <td>1049</td>\n",
              "      <td>50</td>\n",
              "      <td>My favorite buy!</td>\n",
              "      <td>I love, love, love this jumpsuit. it's fun, fl...</td>\n",
              "      <td>5</td>\n",
              "      <td>1</td>\n",
              "      <td>0</td>\n",
              "      <td>General Petite</td>\n",
              "      <td>Bottoms</td>\n",
              "      <td>Pants</td>\n",
              "    </tr>\n",
              "    <tr>\n",
              "      <th>4</th>\n",
              "      <td>847</td>\n",
              "      <td>47</td>\n",
              "      <td>Flattering shirt</td>\n",
              "      <td>This shirt is very flattering to all due to th...</td>\n",
              "      <td>5</td>\n",
              "      <td>1</td>\n",
              "      <td>6</td>\n",
              "      <td>General</td>\n",
              "      <td>Tops</td>\n",
              "      <td>Blouses</td>\n",
              "    </tr>\n",
              "  </tbody>\n",
              "</table>\n",
              "</div>\n",
              "      <button class=\"colab-df-convert\" onclick=\"convertToInteractive('df-a65ca9c9-2121-4863-b683-309fcb5a4528')\"\n",
              "              title=\"Convert this dataframe to an interactive table.\"\n",
              "              style=\"display:none;\">\n",
              "        \n",
              "  <svg xmlns=\"http://www.w3.org/2000/svg\" height=\"24px\"viewBox=\"0 0 24 24\"\n",
              "       width=\"24px\">\n",
              "    <path d=\"M0 0h24v24H0V0z\" fill=\"none\"/>\n",
              "    <path d=\"M18.56 5.44l.94 2.06.94-2.06 2.06-.94-2.06-.94-.94-2.06-.94 2.06-2.06.94zm-11 1L8.5 8.5l.94-2.06 2.06-.94-2.06-.94L8.5 2.5l-.94 2.06-2.06.94zm10 10l.94 2.06.94-2.06 2.06-.94-2.06-.94-.94-2.06-.94 2.06-2.06.94z\"/><path d=\"M17.41 7.96l-1.37-1.37c-.4-.4-.92-.59-1.43-.59-.52 0-1.04.2-1.43.59L10.3 9.45l-7.72 7.72c-.78.78-.78 2.05 0 2.83L4 21.41c.39.39.9.59 1.41.59.51 0 1.02-.2 1.41-.59l7.78-7.78 2.81-2.81c.8-.78.8-2.07 0-2.86zM5.41 20L4 18.59l7.72-7.72 1.47 1.35L5.41 20z\"/>\n",
              "  </svg>\n",
              "      </button>\n",
              "      \n",
              "  <style>\n",
              "    .colab-df-container {\n",
              "      display:flex;\n",
              "      flex-wrap:wrap;\n",
              "      gap: 12px;\n",
              "    }\n",
              "\n",
              "    .colab-df-convert {\n",
              "      background-color: #E8F0FE;\n",
              "      border: none;\n",
              "      border-radius: 50%;\n",
              "      cursor: pointer;\n",
              "      display: none;\n",
              "      fill: #1967D2;\n",
              "      height: 32px;\n",
              "      padding: 0 0 0 0;\n",
              "      width: 32px;\n",
              "    }\n",
              "\n",
              "    .colab-df-convert:hover {\n",
              "      background-color: #E2EBFA;\n",
              "      box-shadow: 0px 1px 2px rgba(60, 64, 67, 0.3), 0px 1px 3px 1px rgba(60, 64, 67, 0.15);\n",
              "      fill: #174EA6;\n",
              "    }\n",
              "\n",
              "    [theme=dark] .colab-df-convert {\n",
              "      background-color: #3B4455;\n",
              "      fill: #D2E3FC;\n",
              "    }\n",
              "\n",
              "    [theme=dark] .colab-df-convert:hover {\n",
              "      background-color: #434B5C;\n",
              "      box-shadow: 0px 1px 3px 1px rgba(0, 0, 0, 0.15);\n",
              "      filter: drop-shadow(0px 1px 2px rgba(0, 0, 0, 0.3));\n",
              "      fill: #FFFFFF;\n",
              "    }\n",
              "  </style>\n",
              "\n",
              "      <script>\n",
              "        const buttonEl =\n",
              "          document.querySelector('#df-a65ca9c9-2121-4863-b683-309fcb5a4528 button.colab-df-convert');\n",
              "        buttonEl.style.display =\n",
              "          google.colab.kernel.accessAllowed ? 'block' : 'none';\n",
              "\n",
              "        async function convertToInteractive(key) {\n",
              "          const element = document.querySelector('#df-a65ca9c9-2121-4863-b683-309fcb5a4528');\n",
              "          const dataTable =\n",
              "            await google.colab.kernel.invokeFunction('convertToInteractive',\n",
              "                                                     [key], {});\n",
              "          if (!dataTable) return;\n",
              "\n",
              "          const docLinkHtml = 'Like what you see? Visit the ' +\n",
              "            '<a target=\"_blank\" href=https://colab.research.google.com/notebooks/data_table.ipynb>data table notebook</a>'\n",
              "            + ' to learn more about interactive tables.';\n",
              "          element.innerHTML = '';\n",
              "          dataTable['output_type'] = 'display_data';\n",
              "          await google.colab.output.renderOutput(dataTable, element);\n",
              "          const docLink = document.createElement('div');\n",
              "          docLink.innerHTML = docLinkHtml;\n",
              "          element.appendChild(docLink);\n",
              "        }\n",
              "      </script>\n",
              "    </div>\n",
              "  </div>\n",
              "  "
            ]
          },
          "metadata": {},
          "execution_count": 48
        }
      ]
    },
    {
      "cell_type": "code",
      "source": [
        "from sklearn.feature_extraction.text import CountVectorizer\n",
        "from sklearn.linear_model import LogisticRegression\n",
        "from sklearn.model_selection import train_test_split"
      ],
      "metadata": {
        "id": "WS9HIgDl-2QX"
      },
      "execution_count": 50,
      "outputs": []
    },
    {
      "cell_type": "code",
      "source": [
        "df= df[['Review Text',\t'Recommended IND']]\n",
        "df.columns = ['text','target']"
      ],
      "metadata": {
        "id": "TLHWwNf8-2TU"
      },
      "execution_count": 52,
      "outputs": []
    },
    {
      "cell_type": "code",
      "source": [
        "df.head()"
      ],
      "metadata": {
        "colab": {
          "base_uri": "https://localhost:8080/",
          "height": 206
        },
        "id": "Yn_zj-8e-2WG",
        "outputId": "938d4f48-4340-40b0-86b1-9c9588ae1d1a"
      },
      "execution_count": 53,
      "outputs": [
        {
          "output_type": "execute_result",
          "data": {
            "text/plain": [
              "                                                text  target\n",
              "0  Absolutely wonderful - silky and sexy and comf...       1\n",
              "1  Love this dress!  it's sooo pretty.  i happene...       1\n",
              "2  I had such high hopes for this dress and reall...       0\n",
              "3  I love, love, love this jumpsuit. it's fun, fl...       1\n",
              "4  This shirt is very flattering to all due to th...       1"
            ],
            "text/html": [
              "\n",
              "  <div id=\"df-939cee89-7254-43ff-9f09-4d2c97a40435\">\n",
              "    <div class=\"colab-df-container\">\n",
              "      <div>\n",
              "<style scoped>\n",
              "    .dataframe tbody tr th:only-of-type {\n",
              "        vertical-align: middle;\n",
              "    }\n",
              "\n",
              "    .dataframe tbody tr th {\n",
              "        vertical-align: top;\n",
              "    }\n",
              "\n",
              "    .dataframe thead th {\n",
              "        text-align: right;\n",
              "    }\n",
              "</style>\n",
              "<table border=\"1\" class=\"dataframe\">\n",
              "  <thead>\n",
              "    <tr style=\"text-align: right;\">\n",
              "      <th></th>\n",
              "      <th>text</th>\n",
              "      <th>target</th>\n",
              "    </tr>\n",
              "  </thead>\n",
              "  <tbody>\n",
              "    <tr>\n",
              "      <th>0</th>\n",
              "      <td>Absolutely wonderful - silky and sexy and comf...</td>\n",
              "      <td>1</td>\n",
              "    </tr>\n",
              "    <tr>\n",
              "      <th>1</th>\n",
              "      <td>Love this dress!  it's sooo pretty.  i happene...</td>\n",
              "      <td>1</td>\n",
              "    </tr>\n",
              "    <tr>\n",
              "      <th>2</th>\n",
              "      <td>I had such high hopes for this dress and reall...</td>\n",
              "      <td>0</td>\n",
              "    </tr>\n",
              "    <tr>\n",
              "      <th>3</th>\n",
              "      <td>I love, love, love this jumpsuit. it's fun, fl...</td>\n",
              "      <td>1</td>\n",
              "    </tr>\n",
              "    <tr>\n",
              "      <th>4</th>\n",
              "      <td>This shirt is very flattering to all due to th...</td>\n",
              "      <td>1</td>\n",
              "    </tr>\n",
              "  </tbody>\n",
              "</table>\n",
              "</div>\n",
              "      <button class=\"colab-df-convert\" onclick=\"convertToInteractive('df-939cee89-7254-43ff-9f09-4d2c97a40435')\"\n",
              "              title=\"Convert this dataframe to an interactive table.\"\n",
              "              style=\"display:none;\">\n",
              "        \n",
              "  <svg xmlns=\"http://www.w3.org/2000/svg\" height=\"24px\"viewBox=\"0 0 24 24\"\n",
              "       width=\"24px\">\n",
              "    <path d=\"M0 0h24v24H0V0z\" fill=\"none\"/>\n",
              "    <path d=\"M18.56 5.44l.94 2.06.94-2.06 2.06-.94-2.06-.94-.94-2.06-.94 2.06-2.06.94zm-11 1L8.5 8.5l.94-2.06 2.06-.94-2.06-.94L8.5 2.5l-.94 2.06-2.06.94zm10 10l.94 2.06.94-2.06 2.06-.94-2.06-.94-.94-2.06-.94 2.06-2.06.94z\"/><path d=\"M17.41 7.96l-1.37-1.37c-.4-.4-.92-.59-1.43-.59-.52 0-1.04.2-1.43.59L10.3 9.45l-7.72 7.72c-.78.78-.78 2.05 0 2.83L4 21.41c.39.39.9.59 1.41.59.51 0 1.02-.2 1.41-.59l7.78-7.78 2.81-2.81c.8-.78.8-2.07 0-2.86zM5.41 20L4 18.59l7.72-7.72 1.47 1.35L5.41 20z\"/>\n",
              "  </svg>\n",
              "      </button>\n",
              "      \n",
              "  <style>\n",
              "    .colab-df-container {\n",
              "      display:flex;\n",
              "      flex-wrap:wrap;\n",
              "      gap: 12px;\n",
              "    }\n",
              "\n",
              "    .colab-df-convert {\n",
              "      background-color: #E8F0FE;\n",
              "      border: none;\n",
              "      border-radius: 50%;\n",
              "      cursor: pointer;\n",
              "      display: none;\n",
              "      fill: #1967D2;\n",
              "      height: 32px;\n",
              "      padding: 0 0 0 0;\n",
              "      width: 32px;\n",
              "    }\n",
              "\n",
              "    .colab-df-convert:hover {\n",
              "      background-color: #E2EBFA;\n",
              "      box-shadow: 0px 1px 2px rgba(60, 64, 67, 0.3), 0px 1px 3px 1px rgba(60, 64, 67, 0.15);\n",
              "      fill: #174EA6;\n",
              "    }\n",
              "\n",
              "    [theme=dark] .colab-df-convert {\n",
              "      background-color: #3B4455;\n",
              "      fill: #D2E3FC;\n",
              "    }\n",
              "\n",
              "    [theme=dark] .colab-df-convert:hover {\n",
              "      background-color: #434B5C;\n",
              "      box-shadow: 0px 1px 3px 1px rgba(0, 0, 0, 0.15);\n",
              "      filter: drop-shadow(0px 1px 2px rgba(0, 0, 0, 0.3));\n",
              "      fill: #FFFFFF;\n",
              "    }\n",
              "  </style>\n",
              "\n",
              "      <script>\n",
              "        const buttonEl =\n",
              "          document.querySelector('#df-939cee89-7254-43ff-9f09-4d2c97a40435 button.colab-df-convert');\n",
              "        buttonEl.style.display =\n",
              "          google.colab.kernel.accessAllowed ? 'block' : 'none';\n",
              "\n",
              "        async function convertToInteractive(key) {\n",
              "          const element = document.querySelector('#df-939cee89-7254-43ff-9f09-4d2c97a40435');\n",
              "          const dataTable =\n",
              "            await google.colab.kernel.invokeFunction('convertToInteractive',\n",
              "                                                     [key], {});\n",
              "          if (!dataTable) return;\n",
              "\n",
              "          const docLinkHtml = 'Like what you see? Visit the ' +\n",
              "            '<a target=\"_blank\" href=https://colab.research.google.com/notebooks/data_table.ipynb>data table notebook</a>'\n",
              "            + ' to learn more about interactive tables.';\n",
              "          element.innerHTML = '';\n",
              "          dataTable['output_type'] = 'display_data';\n",
              "          await google.colab.output.renderOutput(dataTable, element);\n",
              "          const docLink = document.createElement('div');\n",
              "          docLink.innerHTML = docLinkHtml;\n",
              "          element.appendChild(docLink);\n",
              "        }\n",
              "      </script>\n",
              "    </div>\n",
              "  </div>\n",
              "  "
            ]
          },
          "metadata": {},
          "execution_count": 53
        }
      ]
    },
    {
      "cell_type": "code",
      "source": [
        "\n",
        "df = df.dropna()\n",
        "df.isnull().sum()"
      ],
      "metadata": {
        "colab": {
          "base_uri": "https://localhost:8080/"
        },
        "id": "qpNNCyTfF3Nk",
        "outputId": "3bdff6e2-acc9-415d-d1e7-1660185efb5a"
      },
      "execution_count": 59,
      "outputs": [
        {
          "output_type": "execute_result",
          "data": {
            "text/plain": [
              "text      0\n",
              "target    0\n",
              "dtype: int64"
            ]
          },
          "metadata": {},
          "execution_count": 59
        }
      ]
    },
    {
      "cell_type": "code",
      "source": [
        "X_train, X_test, y_train, y_test = train_test_split(df['text'], df['target'], test_size=0.2)\n",
        "vectorizer = CountVectorizer(lowercase=True)\n",
        "vectorizer.fit(df['text'])\n",
        "X_train_vec = vectorizer.transform(X_train)\n",
        "X_test_vec = vectorizer.transform(X_test)\n",
        "print(X_train_vec.shape)\n",
        "print(X_test_vec.shape)"
      ],
      "metadata": {
        "colab": {
          "base_uri": "https://localhost:8080/"
        },
        "id": "_T65c5eP-2ZV",
        "outputId": "4f97955e-f223-4860-b1f3-6e54d7e5c6f2"
      },
      "execution_count": 60,
      "outputs": [
        {
          "output_type": "stream",
          "name": "stdout",
          "text": [
            "(18112, 14145)\n",
            "(4529, 14145)\n"
          ]
        }
      ]
    },
    {
      "cell_type": "code",
      "source": [
        "X_train_tensor = torch.from_numpy(X_train_vec.todense()).float()\n",
        "X_test_tensor = torch.from_numpy(X_test_vec.todense()).float()\n",
        "y_train_tensor = torch.from_numpy(np.array(y_train)).float()\n",
        "y_test_tensor = torch.from_numpy(np.array(y_test)).float()"
      ],
      "metadata": {
        "id": "DAH9fsr8-2cG"
      },
      "execution_count": 75,
      "outputs": []
    },
    {
      "cell_type": "code",
      "source": [
        "X_train_tensor.shape,X_test_tensor.shape,y_train_tensor.shape"
      ],
      "metadata": {
        "colab": {
          "base_uri": "https://localhost:8080/"
        },
        "id": "r3SrzA4p-2e1",
        "outputId": "88a4ceb7-8fa9-4fba-feba-a3dc0cfdb76d"
      },
      "execution_count": 76,
      "outputs": [
        {
          "output_type": "execute_result",
          "data": {
            "text/plain": [
              "(torch.Size([18112, 14145]), torch.Size([4529, 14145]), torch.Size([18112]))"
            ]
          },
          "metadata": {},
          "execution_count": 76
        }
      ]
    },
    {
      "cell_type": "code",
      "source": [
        "class Network(torch.nn.Module):\n",
        "  def __init__(self,vocab_size,out_classes):\n",
        "        super().__init__()\n",
        "        self.linear = torch.nn.Linear(vocab_size,out_classes)\n",
        "  def forward(self,x):\n",
        "        return self.linear(x) \n",
        "\n",
        "\n",
        "vocab_size = X_train_tensor.shape[1]\n",
        "output_dim = 1\n",
        "\n",
        "model = Network(vocab_size,output_dim)\n",
        "pred = model(X_train_tensor[1]) #just get pred for one inp"
      ],
      "metadata": {
        "id": "PqXTRmHY-2hl"
      },
      "execution_count": 83,
      "outputs": []
    },
    {
      "cell_type": "code",
      "source": [
        "pred"
      ],
      "metadata": {
        "colab": {
          "base_uri": "https://localhost:8080/"
        },
        "id": "bd4MPteS-2kF",
        "outputId": "a0342f01-34c7-4a5c-9603-fbe0232547a6"
      },
      "execution_count": 84,
      "outputs": [
        {
          "output_type": "execute_result",
          "data": {
            "text/plain": [
              "tensor([-0.1100], grad_fn=<AddBackward0>)"
            ]
          },
          "metadata": {},
          "execution_count": 84
        }
      ]
    },
    {
      "cell_type": "markdown",
      "source": [
        "We’ll use DataLoader class for batching but it requires TensorDataset"
      ],
      "metadata": {
        "id": "ZNHI5AZEIssZ"
      }
    },
    {
      "cell_type": "code",
      "source": [
        "from torch.utils.data import Dataset, TensorDataset\n",
        "\n",
        "train_data = TensorDataset(X_train_tensor,y_train_tensor)  #return a list of tuple(feat1,tar1),(feat2,tar2)\n",
        "train_data.tensors"
      ],
      "metadata": {
        "colab": {
          "base_uri": "https://localhost:8080/"
        },
        "id": "1smYpSEK-2m3",
        "outputId": "cf944b4d-d09d-47b1-b54b-eab646ecdcd9"
      },
      "execution_count": 86,
      "outputs": [
        {
          "output_type": "execute_result",
          "data": {
            "text/plain": [
              "(tensor([[0., 0., 0.,  ..., 0., 0., 0.],\n",
              "         [0., 0., 0.,  ..., 0., 0., 0.],\n",
              "         [0., 0., 0.,  ..., 0., 0., 0.],\n",
              "         ...,\n",
              "         [0., 0., 0.,  ..., 0., 0., 0.],\n",
              "         [0., 0., 0.,  ..., 0., 0., 0.],\n",
              "         [0., 0., 0.,  ..., 0., 0., 0.]]),\n",
              " tensor([0., 1., 1.,  ..., 1., 1., 1.]))"
            ]
          },
          "metadata": {},
          "execution_count": 86
        }
      ]
    },
    {
      "cell_type": "code",
      "source": [
        "train_data[1]"
      ],
      "metadata": {
        "colab": {
          "base_uri": "https://localhost:8080/"
        },
        "id": "cA0ohSpJ-2pk",
        "outputId": "747fe66b-5a60-414f-956a-e3058e68f513"
      },
      "execution_count": 87,
      "outputs": [
        {
          "output_type": "execute_result",
          "data": {
            "text/plain": [
              "(tensor([0., 0., 0.,  ..., 0., 0., 0.]), tensor(1.))"
            ]
          },
          "metadata": {},
          "execution_count": 87
        }
      ]
    },
    {
      "cell_type": "code",
      "source": [
        "train_loader = DataLoader(train_data,batch_size=16,shuffle=True)\n",
        "\n",
        "next(iter(train_loader))"
      ],
      "metadata": {
        "colab": {
          "base_uri": "https://localhost:8080/"
        },
        "id": "N7H_OsvS-2sW",
        "outputId": "8bdaa1dd-25e6-4008-ea9a-ce5980ae1356"
      },
      "execution_count": 94,
      "outputs": [
        {
          "output_type": "execute_result",
          "data": {
            "text/plain": [
              "[tensor([[0., 0., 0.,  ..., 0., 0., 0.],\n",
              "         [0., 0., 0.,  ..., 0., 0., 0.],\n",
              "         [0., 0., 0.,  ..., 0., 0., 0.],\n",
              "         ...,\n",
              "         [0., 0., 0.,  ..., 0., 0., 0.],\n",
              "         [0., 0., 0.,  ..., 0., 0., 0.],\n",
              "         [0., 0., 0.,  ..., 0., 0., 0.]]),\n",
              " tensor([0., 1., 1., 1., 1., 1., 1., 1., 1., 1., 0., 1., 0., 1., 1., 1.])]"
            ]
          },
          "metadata": {},
          "execution_count": 94
        }
      ]
    },
    {
      "cell_type": "code",
      "source": [
        "class Network(torch.nn.Module):\n",
        "  def __init__(self,vocab_size,hidden_units,num_classes): \n",
        "    super().__init__()\n",
        "     #First fully connected layer\n",
        "    self.fc1 = torch.nn.Linear(vocab_size,hidden_units)\n",
        "      #Second fully connected layer\n",
        "    self.fc2 = torch.nn.Linear(hidden_units,num_classes)\n",
        "      #Final output of sigmoid function      \n",
        "    self.output = torch.nn.Sigmoid()\n",
        "  def forward(self,x):\n",
        "    fc1 = self.fc1(x)\n",
        "    fc2 = self.fc2(fc1)\n",
        "    output = self.output(fc2)  #gives shape [16,1]--batch size and yBatch is of size 16\n",
        "    #print(f'output.shape is {output.squeeze(dim=1).shape}')\n",
        "    return output.squeeze(dim=1)"
      ],
      "metadata": {
        "id": "LOd7PUCh-2ul"
      },
      "execution_count": 109,
      "outputs": []
    },
    {
      "cell_type": "markdown",
      "source": [
        "1. Forward pass\n",
        "\n",
        "1.   Calculate the loss\n",
        "2.   Zero gradients\n",
        "3.   backpropogation\n",
        "4.   update optimizer\n",
        "\n",
        "\n",
        "\n",
        "\n",
        "\n",
        "\n",
        "\n",
        "\n"
      ],
      "metadata": {
        "id": "We7bl5uILLWQ"
      }
    },
    {
      "cell_type": "code",
      "source": [
        "batch_size = 32\n",
        "NUM_EPOCHS = 2\n",
        "VOCAB_SIZE = 14145\n",
        "HIDDEN_UNITS = 3\n",
        "OUT_CLASSES = 1\n",
        "LEARNING_RATE = 0.001\n",
        "\n",
        "#Initialize model\n",
        "model = Network(VOCAB_SIZE,HIDDEN_UNITS,OUT_CLASSES)\n",
        "print(model)\n",
        "#Initialize optimizer\n",
        "optimizer =torch.optim.SGD(model.parameters(), lr=LEARNING_RATE)\n",
        "#Initialize loss function\n",
        "loss_fun = torch.nn.BCELoss()\n",
        "\n",
        "\n",
        "for epoch in range(NUM_EPOCHS):\n",
        "  for x_batch, y_batch in train_loader:\n",
        "    model.train()\n",
        "    y_pred = model(x_batch)\n",
        "\n",
        "    y_loss = loss_fun(y_pred,y_batch)\n",
        "\n",
        "    optimizer.zero_grad()\n",
        "    y_loss.backward()\n",
        "    optimizer.step()\n",
        "  print('After {} epoch training loss is {}'.format(epoch,y_loss.item()))"
      ],
      "metadata": {
        "colab": {
          "base_uri": "https://localhost:8080/"
        },
        "id": "bch1_ip0LKey",
        "outputId": "efca36bc-9292-48ff-d5e2-8b65fe0182f6"
      },
      "execution_count": 111,
      "outputs": [
        {
          "output_type": "stream",
          "name": "stdout",
          "text": [
            "Network(\n",
            "  (fc1): Linear(in_features=14145, out_features=3, bias=True)\n",
            "  (fc2): Linear(in_features=3, out_features=1, bias=True)\n",
            "  (output): Sigmoid()\n",
            ")\n",
            "After 0 epoch training loss is 0.5943374037742615\n",
            "After 1 epoch training loss is 0.5806816816329956\n"
          ]
        }
      ]
    },
    {
      "cell_type": "code",
      "source": [],
      "metadata": {
        "id": "pzKNELAdLKiB"
      },
      "execution_count": null,
      "outputs": []
    },
    {
      "cell_type": "code",
      "source": [],
      "metadata": {
        "id": "mmYpcvOCLKlA"
      },
      "execution_count": null,
      "outputs": []
    },
    {
      "cell_type": "code",
      "source": [],
      "metadata": {
        "id": "qqA0hrVJLKnx"
      },
      "execution_count": null,
      "outputs": []
    },
    {
      "cell_type": "code",
      "source": [],
      "metadata": {
        "id": "SI_SBSkPLKqg"
      },
      "execution_count": null,
      "outputs": []
    },
    {
      "cell_type": "code",
      "source": [],
      "metadata": {
        "id": "M7r1HXCfLKtB"
      },
      "execution_count": null,
      "outputs": []
    },
    {
      "cell_type": "code",
      "source": [],
      "metadata": {
        "id": "QYgmJhrtLKyA"
      },
      "execution_count": null,
      "outputs": []
    },
    {
      "cell_type": "code",
      "source": [],
      "metadata": {
        "id": "fTVvmig_LK1A"
      },
      "execution_count": null,
      "outputs": []
    }
  ]
}