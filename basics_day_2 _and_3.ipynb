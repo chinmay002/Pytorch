{
 "cells": [
  {
   "cell_type": "code",
   "execution_count": 2,
   "id": "b6bbf2b3",
   "metadata": {},
   "outputs": [],
   "source": [
    "import torch\n",
    "import numpy as np\n",
    "from torch import nn\n",
    "import matplotlib.pyplot as plt"
   ]
  },
  {
   "cell_type": "code",
   "execution_count": 13,
   "id": "8e6eefd4",
   "metadata": {},
   "outputs": [],
   "source": [
    "weight = 0.7\n",
    "bias = 0.3 \n",
    "\n",
    "start =0\n",
    "end =1\n",
    "step = 0.02\n",
    "\n",
    "X = torch.arange(start,end,step).unsqueeze(dim=1) #[50]-->[50,1]\n",
    "y = weight*X + bias"
   ]
  },
  {
   "cell_type": "code",
   "execution_count": 15,
   "id": "0c71d848",
   "metadata": {},
   "outputs": [
    {
     "data": {
      "text/plain": [
       "tensor([[0.3000],\n",
       "        [0.3140],\n",
       "        [0.3280],\n",
       "        [0.3420],\n",
       "        [0.3560],\n",
       "        [0.3700],\n",
       "        [0.3840],\n",
       "        [0.3980],\n",
       "        [0.4120],\n",
       "        [0.4260]])"
      ]
     },
     "execution_count": 15,
     "metadata": {},
     "output_type": "execute_result"
    }
   ],
   "source": [
    "y[:10]"
   ]
  },
  {
   "cell_type": "code",
   "execution_count": 16,
   "id": "ed03d4ad",
   "metadata": {},
   "outputs": [
    {
     "data": {
      "text/plain": [
       "(40, 40, 10, 10)"
      ]
     },
     "execution_count": 16,
     "metadata": {},
     "output_type": "execute_result"
    }
   ],
   "source": [
    "# Create train/test split\n",
    "train_split = int(0.8 * len(X)) # 80% of data used for training set, 20% for testing \n",
    "X_train, y_train = X[:train_split], y[:train_split]\n",
    "X_test, y_test = X[train_split:], y[train_split:]\n",
    "\n",
    "len(X_train), len(y_train), len(X_test), len(y_test)"
   ]
  },
  {
   "cell_type": "code",
   "execution_count": 26,
   "id": "68ea614a",
   "metadata": {},
   "outputs": [],
   "source": [
    "def plot_predictions(train_data=X_train, \n",
    "                     train_labels=y_train, \n",
    "                     test_data=X_test, \n",
    "                     test_labels=y_test, \n",
    "                     predictions=None):\n",
    "       \n",
    "      \n",
    "      #Plots training data, test data and compares predictions.\n",
    "      \n",
    " \n",
    "    plt.figure(figsize=(10, 7))\n",
    "\n",
    "    \n",
    "  # Plot training data in blue\n",
    "    plt.scatter(train_data, train_labels, c=\"b\", s=4, label=\"Training data\")\n",
    "  \n",
    "  # Plot test data in green\n",
    "    plt.scatter(test_data, test_labels, c=\"r\", s=4, label=\"Testing data\")\n",
    "\n",
    "    if predictions is not None:\n",
    "    # Plot the predictions in red (predictions were made on the test data)\n",
    "      plt.scatter(test_data, predictions, c=\"r\", s=4, label=\"Predictions\")\n",
    "\n",
    "  # Show the legend\n",
    "    plt.legend(prop={\"size\": 14});"
   ]
  },
  {
   "cell_type": "code",
   "execution_count": 27,
   "id": "e3a8a19a",
   "metadata": {},
   "outputs": [
    {
     "data": {
      "image/png": "[encoded data removed]",
      "text/plain": [
       "<Figure size 720x504 with 1 Axes>"
      ]
     },
     "metadata": {
      "needs_background": "light"
     },
     "output_type": "display_data"
    }
   ],
   "source": [
    "plot_predictions()"
   ]
  },
  {
   "cell_type": "code",
   "execution_count": 33,
   "id": "bab81afa",
   "metadata": {},
   "outputs": [],
   "source": [
    "class LinearRegressionModel(nn.Module):\n",
    "    def __init__(self):\n",
    "        super().__init__()\n",
    "        self.weights = nn.Parameter(torch.randn(1,dtype = torch.float,requires_grad = True))\n",
    "        self.bias = nn.Parameter(torch.randn(1,dtype = torch.float,requires_grad = True))\n",
    "        \n",
    "    def forward(self,x)  :\n",
    "        return self.weights*x+self.bias"
   ]
  },
  {
   "cell_type": "code",
   "execution_count": 41,
   "id": "b8ff0b78",
   "metadata": {},
   "outputs": [],
   "source": [
    "torch.manual_seed(42)\n",
    "# Create an instance of the model (this is a subclass of nn.Module that contains nn.Parameter(s))\n",
    "model_0 = LinearRegressionModel()"
   ]
  },
  {
   "cell_type": "code",
   "execution_count": 42,
   "id": "02cc5f75",
   "metadata": {},
   "outputs": [
    {
     "data": {
      "text/plain": [
       "[Parameter containing:\n",
       " tensor([0.3367], requires_grad=True),\n",
       " Parameter containing:\n",
       " tensor([0.1288], requires_grad=True)]"
      ]
     },
     "execution_count": 42,
     "metadata": {},
     "output_type": "execute_result"
    }
   ],
   "source": [
    "list(model_0.parameters())"
   ]
  },
  {
   "cell_type": "code",
   "execution_count": 44,
   "id": "c9035bde",
   "metadata": {},
   "outputs": [],
   "source": [
    "# # Make predictions with model inderence model i sfaster and does same things as no_grad\n",
    "# with torch.inference_mode(): \n",
    "#     y_preds = model_0(X_test)\n",
    "\n",
    "# older PyTorch code \n",
    "with torch.no_grad():\n",
    "    y_preds = model_0(X_test)"
   ]
  },
  {
   "cell_type": "code",
   "execution_count": 45,
   "id": "5185de85",
   "metadata": {},
   "outputs": [
    {
     "data": {
      "text/plain": [
       "tensor([[0.3982],\n",
       "        [0.4049],\n",
       "        [0.4116],\n",
       "        [0.4184],\n",
       "        [0.4251],\n",
       "        [0.4318],\n",
       "        [0.4386],\n",
       "        [0.4453],\n",
       "        [0.4520],\n",
       "        [0.4588]])"
      ]
     },
     "execution_count": 45,
     "metadata": {},
     "output_type": "execute_result"
    }
   ],
   "source": [
    "y_preds"
   ]
  },
  {
   "cell_type": "code",
   "execution_count": 46,
   "id": "5b9d8cdc",
   "metadata": {},
   "outputs": [
    {
     "data": {
      "image/png": "[encoded data removed]",
      "text/plain": [
       "<Figure size 720x504 with 1 Axes>"
      ]
     },
     "metadata": {
      "needs_background": "light"
     },
     "output_type": "display_data"
    }
   ],
   "source": [
    "plot_predictions(predictions=y_preds)"
   ]
  },
  {
   "cell_type": "raw",
   "id": "523465d4",
   "metadata": {},
   "source": [
    "model is trained on randomly inititlaized weights and biases hence the predictions are bad"
   ]
  },
  {
   "cell_type": "markdown",
   "id": "97c5bb8e",
   "metadata": {},
   "source": [
    "# loss function and optimizer"
   ]
  },
  {
   "cell_type": "markdown",
   "id": "9e945f83",
   "metadata": {},
   "source": [
    "MAE -diff in predicted and actual and mean of them\n"
   ]
  },
  {
   "cell_type": "code",
   "execution_count": 47,
   "id": "4b9b2a0f",
   "metadata": {},
   "outputs": [],
   "source": [
    "loss_fn = nn.L1Loss()\n",
    "optimizer = torch.optim.SGD(params=model_0.parameters(),lr = 0.01)"
   ]
  },
  {
   "cell_type": "markdown",
   "id": "d110266c",
   "metadata": {},
   "source": [
    "\n",
    "<h1>PyTorch training loop</h1>\n",
    "<li>Forward pass</li>\n",
    "<li>Calculate the loss</li>\n",
    "<li>Zero gradients</li>\n",
    "<li>backpropogation</li>\n",
    "<li>update optimizer</li>"
   ]
  },
  {
   "cell_type": "code",
   "execution_count": 52,
   "id": "ec71d7f6",
   "metadata": {},
   "outputs": [
    {
     "name": "stdout",
     "output_type": "stream",
     "text": [
      "out tensor(9., grad_fn=<SumBackward0>)\n",
      "tensor([ 3., 12.])\n",
      "out tensor(9., grad_fn=<SumBackward0>)\n",
      "tensor([ 6., 24.])\n",
      "out tensor(9., grad_fn=<SumBackward0>)\n",
      "tensor([ 9., 36.])\n"
     ]
    }
   ],
   "source": [
    "import torch\n",
    "weights = torch.tensor([1.,2.],requires_grad=True)\n",
    "for epoch in range(3):\n",
    "    out = (weights**3).sum()\n",
    "    print('out',out)\n",
    "    out.backward()\n",
    "    print(weights.grad)#our grad are accumalated and added again in each epochs\n",
    "    \n",
    "    #weights.grad.zero_()"
   ]
  },
  {
   "cell_type": "code",
   "execution_count": 53,
   "id": "89e17893",
   "metadata": {},
   "outputs": [
    {
     "name": "stdout",
     "output_type": "stream",
     "text": [
      "out tensor(9., grad_fn=<SumBackward0>)\n",
      "tensor([ 3., 12.])\n",
      "out tensor(9., grad_fn=<SumBackward0>)\n",
      "tensor([ 3., 12.])\n",
      "out tensor(9., grad_fn=<SumBackward0>)\n",
      "tensor([ 3., 12.])\n"
     ]
    }
   ],
   "source": [
    "import torch\n",
    "weights = torch.tensor([1.,2.],requires_grad=True)\n",
    "for epoch in range(3):\n",
    "    out = (weights**3).sum()\n",
    "    print('out',out)\n",
    "    out.backward()\n",
    "    print(weights.grad)#our grad are accumalated and added again in each epochs\n",
    "    \n",
    "    weights.grad.zero_()"
   ]
  },
  {
   "cell_type": "code",
   "execution_count": 51,
   "id": "252b8744",
   "metadata": {},
   "outputs": [
    {
     "name": "stdout",
     "output_type": "stream",
     "text": [
      "epoch :0 | MAE Train_loss: 0.3013603687286377 | MAE Test Loss: 0.4675941467285156\n",
      "epoch :10 | MAE Train_loss: 0.18615032732486725 | MAE Test Loss: 0.33288419246673584\n",
      "epoch :20 | MAE Train_loss: 0.08227583020925522 | MAE Test Loss: 0.2069590985774994\n",
      "epoch :30 | MAE Train_loss: 0.051819466054439545 | MAE Test Loss: 0.14023718237876892\n",
      "epoch :40 | MAE Train_loss: 0.04503796249628067 | MAE Test Loss: 0.11182953417301178\n",
      "epoch :50 | MAE Train_loss: 0.04132963344454765 | MAE Test Loss: 0.09809747338294983\n",
      "epoch :60 | MAE Train_loss: 0.03785243630409241 | MAE Test Loss: 0.08776430785655975\n",
      "epoch :70 | MAE Train_loss: 0.03441363573074341 | MAE Test Loss: 0.07949177175760269\n",
      "epoch :80 | MAE Train_loss: 0.030979644507169724 | MAE Test Loss: 0.07190610468387604\n",
      "epoch :90 | MAE Train_loss: 0.027548830956220627 | MAE Test Loss: 0.06363359093666077\n"
     ]
    }
   ],
   "source": [
    "torch.manual_seed(42)\n",
    "\n",
    "epochs=100\n",
    "\n",
    "train_loss_values = []\n",
    "test_loss_values = []\n",
    "epoch_count = []\n",
    "\n",
    "for epoch in range(epochs):\n",
    "    model_0.train() #sets the model in training mode\n",
    "    \n",
    "    #forward pass on train data\n",
    "    y_pred = model_0(X_train)\n",
    "    \n",
    "    #calculate the loss (pred - actual)\n",
    "    loss = loss_fn(y_pred,y_train)\n",
    "    \n",
    "    #zerso the prev grads\n",
    "    optimizer.zero_grad()\n",
    "    \n",
    "    #calculate graident inp =X**3 ---> 3*X**2\n",
    "    loss.backward()\n",
    "    \n",
    "    #update the parameters\n",
    "    optimizer.step()\n",
    "    \n",
    "    \n",
    "    model_0.eval() #put the model in evaluation mode.\n",
    "    \n",
    "    with torch.no_grad():\n",
    "        test_pred = model_0(X_test)\n",
    "        \n",
    "        test_loss = loss_fn(test_pred,y_test.type(torch.float))\n",
    "        \n",
    "        if epoch % 10 == 0:\n",
    "            epoch_count.append(epoch)\n",
    "            train_loss_values.append(loss.detach().numpy())\n",
    "            test_loss_values.append(test_loss.detach().numpy())\n",
    "            print(f'epoch :{epoch} | MAE Train_loss: {loss} | MAE Test Loss: {test_loss}')"
   ]
  },
  {
   "cell_type": "code",
   "execution_count": 54,
   "id": "ea6c399e",
   "metadata": {},
   "outputs": [
    {
     "name": "stdout",
     "output_type": "stream",
     "text": [
      "The model learned the following values for weights and bias:\n",
      "OrderedDict([('weights', tensor([0.5800])), ('bias', tensor([0.3503]))])\n",
      "\n",
      "And the original values for weights and bias are:\n",
      "weights: 0.7, bias: 0.3\n"
     ]
    }
   ],
   "source": [
    "# Find our model's learned parameters\n",
    "print(\"The model learned the following values for weights and bias:\")\n",
    "print(model_0.state_dict())\n",
    "print(\"\\nAnd the original values for weights and bias are:\")\n",
    "print(f\"weights: {weight}, bias: {bias}\")"
   ]
  },
  {
   "cell_type": "code",
   "execution_count": null,
   "id": "93f0dca6",
   "metadata": {},
   "outputs": [],
   "source": [
    "#Loading and using pytorch model"
   ]
  },
  {
   "cell_type": "code",
   "execution_count": 59,
   "id": "0105354d",
   "metadata": {},
   "outputs": [
    {
     "name": "stdout",
     "output_type": "stream",
     "text": [
      "saving model to : models\\01_pytorch_workflow_model_0.pth\n"
     ]
    }
   ],
   "source": [
    "from pathlib import Path\n",
    "#create directory models\n",
    "MODEL_PATH = Path('models')\n",
    "MODEL_PATH.mkdir(parents=True,exist_ok=True)\n",
    "\n",
    "#create model save path\n",
    "\n",
    "MODEL_NAME = '01_pytorch_workflow_model_0.pth'\n",
    "\n",
    "MODEL_SAVE_PATH = MODEL_PATH / MODEL_NAME\n",
    "\n",
    "#3 Save the Model state dict\n",
    "\n",
    "print(f'saving model to : {MODEL_SAVE_PATH}')\n",
    "torch.save(obj = model_0.state_dict(),f = MODEL_SAVE_PATH)"
   ]
  },
  {
   "cell_type": "code",
   "execution_count": 64,
   "id": "f2ff29a9",
   "metadata": {},
   "outputs": [
    {
     "data": {
      "text/plain": [
       "WindowsPath('models/01_pytorch_workflow_model_0.pth')"
      ]
     },
     "execution_count": 64,
     "metadata": {},
     "output_type": "execute_result"
    }
   ],
   "source": [
    "Path('models')/ '01_pytorch_workflow_model_0.pth'"
   ]
  },
  {
   "cell_type": "code",
   "execution_count": 65,
   "id": "db3c2af1",
   "metadata": {},
   "outputs": [
    {
     "data": {
      "text/plain": [
       "<All keys matched successfully>"
      ]
     },
     "execution_count": 65,
     "metadata": {},
     "output_type": "execute_result"
    }
   ],
   "source": [
    "# Instantiate a new instance of our model (this will be instantiated with random weights)\n",
    "loaded_model_0 = LinearRegressionModel()\n",
    "\n",
    "# Load the state_dict of our saved model (this will update the new instance of our model with trained weights)\n",
    "loaded_model_0.load_state_dict(torch.load(f=MODEL_SAVE_PATH))"
   ]
  },
  {
   "cell_type": "code",
   "execution_count": 66,
   "id": "f0d87984",
   "metadata": {},
   "outputs": [],
   "source": [
    "# 1. Put the loaded model into evaluation mode\n",
    "loaded_model_0.eval()\n",
    "\n",
    "# 2. Use the inference mode context manager to make predictions\n",
    "with torch.no_grad():\n",
    "    loaded_model_preds = loaded_model_0(X_test)"
   ]
  },
  {
   "cell_type": "markdown",
   "id": "352157ce",
   "metadata": {},
   "source": [
    "Day 3\n",
    "PyTorch Neural Network Classification"
   ]
  },
  {
   "cell_type": "code",
   "execution_count": 71,
   "id": "4560dd6a",
   "metadata": {},
   "outputs": [],
   "source": [
    "\n",
    "from sklearn.datasets import make_circles\n",
    "import numpy as np\n",
    "import pandas as pd\n",
    "import seaborn as sns\n",
    "import matplotlib.pyplot as plt"
   ]
  },
  {
   "cell_type": "code",
   "execution_count": 87,
   "id": "03a30b62",
   "metadata": {},
   "outputs": [],
   "source": [
    "n_samples = 1000\n",
    "X,y = make_circles(n_samples,noise=0.03,random_state=42)"
   ]
  },
  {
   "cell_type": "code",
   "execution_count": 88,
   "id": "950a9a95",
   "metadata": {},
   "outputs": [],
   "source": [
    "df = pd.DataFrame({'X1':X[:,0],'X2':X[:,1],'label':y})"
   ]
  },
  {
   "cell_type": "code",
   "execution_count": 77,
   "id": "b7a14228",
   "metadata": {},
   "outputs": [
    {
     "data": {
      "image/png": "[encoded data removed]",
      "text/plain": [
       "<Figure size 432x288 with 1 Axes>"
      ]
     },
     "metadata": {
      "needs_background": "light"
     },
     "output_type": "display_data"
    }
   ],
   "source": [
    "plt.scatter(x=X[:, 0], \n",
    "            y=X[:, 1], \n",
    "            c=y, \n",
    "            cmap=plt.cm.RdYlBu);"
   ]
  },
  {
   "cell_type": "code",
   "execution_count": 89,
   "id": "e451de51",
   "metadata": {},
   "outputs": [
    {
     "data": {
      "text/plain": [
       "((1000, 2), (1000,))"
      ]
     },
     "execution_count": 89,
     "metadata": {},
     "output_type": "execute_result"
    }
   ],
   "source": [
    "X.shape,y.shape"
   ]
  },
  {
   "cell_type": "code",
   "execution_count": 90,
   "id": "05df95cf",
   "metadata": {},
   "outputs": [
    {
     "data": {
      "text/plain": [
       "(tensor([[ 0.7542,  0.2315],\n",
       "         [-0.7562,  0.1533],\n",
       "         [-0.8154,  0.1733]]),\n",
       " tensor([1., 1.]))"
      ]
     },
     "execution_count": 90,
     "metadata": {},
     "output_type": "execute_result"
    }
   ],
   "source": [
    "import torch\n",
    "from torch import nn\n",
    "X = torch.from_numpy(X).type(torch.float)\n",
    "y = torch.from_numpy(y).type(torch.float)\n",
    "\n",
    "X[:3],y[:2]"
   ]
  },
  {
   "cell_type": "code",
   "execution_count": 91,
   "id": "19fca959",
   "metadata": {},
   "outputs": [],
   "source": [
    "from sklearn.model_selection import train_test_split"
   ]
  },
  {
   "cell_type": "code",
   "execution_count": 92,
   "id": "ec70a8ec",
   "metadata": {},
   "outputs": [],
   "source": [
    "x_train,x_test,y_train,y_test = train_test_split(X,y,test_size=0.2,random_state=42)"
   ]
  },
  {
   "cell_type": "code",
   "execution_count": 111,
   "id": "5a8ea612",
   "metadata": {},
   "outputs": [
    {
     "data": {
      "text/plain": [
       "'cuda'"
      ]
     },
     "execution_count": 111,
     "metadata": {},
     "output_type": "execute_result"
    }
   ],
   "source": [
    "device = 'cuda' if torch.cuda.is_available() else 'cpu'\n",
    "device"
   ]
  },
  {
   "cell_type": "code",
   "execution_count": 112,
   "id": "a18a2dc2",
   "metadata": {},
   "outputs": [
    {
     "data": {
      "text/plain": [
       "CircleModel(\n",
       "  (layer_1): Linear(in_features=2, out_features=5, bias=True)\n",
       "  (layer_2): Linear(in_features=5, out_features=1, bias=True)\n",
       ")"
      ]
     },
     "execution_count": 112,
     "metadata": {},
     "output_type": "execute_result"
    }
   ],
   "source": [
    "class CircleModel(nn.Module):\n",
    "    def __init__(self):\n",
    "        super().__init__()\n",
    "        self.layer_1 = nn.Linear(in_features = 2, out_features = 5)\n",
    "        #take 2 inp produces 5 op\n",
    "        self.layer_2 = nn.Linear(in_features = 5, out_features = 1)\n",
    "            \n",
    "    def forward(self,X):\n",
    "        return self.layer_2(self.layer_1(X)) #x --> layer1-->layer22\n",
    "    \n",
    "model = CircleModel().to(device)   \n",
    "model    "
   ]
  },
  {
   "cell_type": "markdown",
   "id": "01fa396f",
   "metadata": {},
   "source": [
    "\"nn.Sequential\" performs a forward pass computation of the input \n",
    "data through the layers in the order they appear."
   ]
  },
  {
   "cell_type": "code",
   "execution_count": 101,
   "id": "5d4e07c7",
   "metadata": {},
   "outputs": [
    {
     "data": {
      "text/plain": [
       "Sequential(\n",
       "  (0): Linear(in_features=2, out_features=5, bias=True)\n",
       "  (1): Linear(in_features=5, out_features=1, bias=True)\n",
       ")"
      ]
     },
     "execution_count": 101,
     "metadata": {},
     "output_type": "execute_result"
    }
   ],
   "source": [
    "# Replicate CircleModelV0 with nn.Sequential\n",
    "model_0 = nn.Sequential(\n",
    "    nn.Linear(in_features=2, out_features=5),\n",
    "    nn.Linear(in_features=5, out_features=1)\n",
    ").to(device)\n",
    "\n",
    "model_0"
   ]
  },
  {
   "cell_type": "markdown",
   "id": "f31a21d5",
   "metadata": {},
   "source": [
    "<li>disdavatage here is, since sequential runs in sequential order, \n",
    "<li>and we want somthing else to happen rather than just straight forward, \n",
    "<li>we need our own custom function"
   ]
  },
  {
   "cell_type": "code",
   "execution_count": 114,
   "id": "6b3af348",
   "metadata": {},
   "outputs": [
    {
     "name": "stdout",
     "output_type": "stream",
     "text": [
      "Length of predictions: 800, Shape: torch.Size([800, 1])\n",
      "Length of test samples: 200, Shape: torch.Size([200])\n",
      "\n",
      "First 10 predictions:\n",
      "tensor([[-0.1189],\n",
      "        [-0.0365],\n",
      "        [-0.2564],\n",
      "        [-0.2243],\n",
      "        [-0.5242],\n",
      "        [-0.1482],\n",
      "        [-0.4974],\n",
      "        [-0.4220],\n",
      "        [-0.5266],\n",
      "        [-0.0983]], device='cuda:0', grad_fn=<SliceBackward>)\n",
      "\n",
      "First 10 test labels:\n",
      "tensor([1., 0., 1., 0., 1., 1., 0., 0., 1., 0.])\n"
     ]
    }
   ],
   "source": [
    "#make predictions:\n",
    "\n",
    "preds = model(x_train.to(device))\n",
    "print(f\"Length of predictions: {len(preds)}, Shape: {preds.shape}\")\n",
    "print(f\"Length of test samples: {len(y_test)}, Shape: {y_test.shape}\")\n",
    "print(f\"\\nFirst 10 predictions:\\n{preds[:10]}\")\n",
    "print(f\"\\nFirst 10 test labels:\\n{y_test[:10]}\")"
   ]
  },
  {
   "cell_type": "code",
   "execution_count": null,
   "id": "8e7d22ee",
   "metadata": {},
   "outputs": [],
   "source": [
    "#create a loss\n",
    "\n",
    "loss_fn = nn.BCEWithLogitsLoss() #BCEloss with sigmoid built in\n",
    "\n",
    "#create an optimizer\n",
    "\n",
    "optimizer = torch.optim.SGD(params = model.parameters() , lr = 0.1)"
   ]
  },
  {
   "cell_type": "code",
   "execution_count": 116,
   "id": "0eccde8b",
   "metadata": {},
   "outputs": [],
   "source": [
    "#calculate accuracy\n",
    "\n",
    "def accuracy_fn(y_true , y_pred):\n",
    "    correct = torch.eq(y_true,y_pred).sum().item()\n",
    "    acc = (correct/len(y_pred))*100\n",
    "    return acc"
   ]
  },
  {
   "cell_type": "code",
   "execution_count": 119,
   "id": "14741d12",
   "metadata": {},
   "outputs": [
    {
     "data": {
      "text/plain": [
       "tensor([[-0.4923],\n",
       "        [-0.5701],\n",
       "        [-0.1918],\n",
       "        [-0.5779],\n",
       "        [-0.0381]], device='cuda:0', grad_fn=<SliceBackward>)"
      ]
     },
     "execution_count": 119,
     "metadata": {},
     "output_type": "execute_result"
    }
   ],
   "source": [
    "# View the frist 5 outputs of the forward pass on the test data\n",
    "y_logits = model(x_test.to(device))[:5]\n",
    "y_logits \n",
    "#these are raw output from equ y = mx+c"
   ]
  },
  {
   "cell_type": "code",
   "execution_count": 120,
   "id": "7f7d0513",
   "metadata": {},
   "outputs": [
    {
     "data": {
      "text/plain": [
       "tensor([[0.3793],\n",
       "        [0.3612],\n",
       "        [0.4522],\n",
       "        [0.3594],\n",
       "        [0.4905]], device='cuda:0', grad_fn=<SigmoidBackward>)"
      ]
     },
     "execution_count": 120,
     "metadata": {},
     "output_type": "execute_result"
    }
   ],
   "source": [
    "# Use sigmoid on model logits\n",
    "y_pred_probs = torch.sigmoid(y_logits)\n",
    "y_pred_probs"
   ]
  },
  {
   "cell_type": "code",
   "execution_count": 124,
   "id": "3b64b80e",
   "metadata": {},
   "outputs": [
    {
     "data": {
      "text/plain": [
       "tensor([[0.],\n",
       "        [0.],\n",
       "        [0.],\n",
       "        [0.],\n",
       "        [0.]], device='cuda:0', grad_fn=<RoundBackward>)"
      ]
     },
     "execution_count": 124,
     "metadata": {},
     "output_type": "execute_result"
    }
   ],
   "source": [
    "torch.round(y_pred_probs)"
   ]
  },
  {
   "cell_type": "code",
   "execution_count": 127,
   "id": "208a1f8a",
   "metadata": {},
   "outputs": [
    {
     "data": {
      "text/plain": [
       "tensor([[0.],\n",
       "        [0.],\n",
       "        [0.],\n",
       "        [0.],\n",
       "        [0.],\n",
       "        [0.],\n",
       "        [0.],\n",
       "        [0.],\n",
       "        [0.],\n",
       "        [0.]], device='cuda:0', grad_fn=<SliceBackward>)"
      ]
     },
     "execution_count": 127,
     "metadata": {},
     "output_type": "execute_result"
    }
   ],
   "source": [
    "y_pred_labels = torch.round(torch.sigmoid(model(x_test.to(device))))\n",
    "y_pred_labels[:10]"
   ]
  },
  {
   "cell_type": "code",
   "execution_count": 128,
   "id": "9e5c24eb",
   "metadata": {},
   "outputs": [
    {
     "data": {
      "text/plain": [
       "tensor([0., 0., 0., 0., 0., 0., 0., 0., 0., 0.], device='cuda:0',\n",
       "       grad_fn=<SliceBackward>)"
      ]
     },
     "execution_count": 128,
     "metadata": {},
     "output_type": "execute_result"
    }
   ],
   "source": [
    "y_pred_labels.squeeze()[:10] #removes extra dimension"
   ]
  },
  {
   "cell_type": "markdown",
   "id": "39518d8f",
   "metadata": {},
   "source": [
    "# buidl model"
   ]
  },
  {
   "cell_type": "code",
   "execution_count": 135,
   "id": "e2a7924d",
   "metadata": {},
   "outputs": [
    {
     "name": "stdout",
     "output_type": "stream",
     "text": [
      "Epoch: 0 | Loss: 0.34098, Accuracy: 42.88% | Test loss: 0.79669, Test acc: 44.00%\n",
      "Epoch: 10 | Loss: 0.34098, Accuracy: 42.88% | Test loss: 0.79669, Test acc: 44.00%\n",
      "Epoch: 20 | Loss: 0.34098, Accuracy: 42.88% | Test loss: 0.79669, Test acc: 44.00%\n",
      "Epoch: 30 | Loss: 0.34098, Accuracy: 42.88% | Test loss: 0.79669, Test acc: 44.00%\n",
      "Epoch: 40 | Loss: 0.34098, Accuracy: 42.88% | Test loss: 0.79669, Test acc: 44.00%\n",
      "Epoch: 50 | Loss: 0.34098, Accuracy: 42.88% | Test loss: 0.79669, Test acc: 44.00%\n",
      "Epoch: 60 | Loss: 0.34098, Accuracy: 42.88% | Test loss: 0.79669, Test acc: 44.00%\n",
      "Epoch: 70 | Loss: 0.34098, Accuracy: 42.88% | Test loss: 0.79669, Test acc: 44.00%\n",
      "Epoch: 80 | Loss: 0.34098, Accuracy: 42.88% | Test loss: 0.79669, Test acc: 44.00%\n",
      "Epoch: 90 | Loss: 0.34098, Accuracy: 42.88% | Test loss: 0.79669, Test acc: 44.00%\n"
     ]
    }
   ],
   "source": [
    "torch.manual_seed(42)\n",
    "\n",
    "epochs=100\n",
    "x_train,y_train = x_train.to(device),y_train.to(device)\n",
    "x_test,y_test = x_test.to(device),y_test.to(device)\n",
    "\n",
    "for epoch in range(epochs):\n",
    "    #set the model in train \n",
    "    \n",
    "    model.train()\n",
    "    \n",
    "    #forward pass\n",
    "    y_logits = model(x_train).squeeze()\n",
    "    y_pred = torch.round(torch.sigmoid(y_logits))\n",
    "    \n",
    "    #calculate loss/accuracy\n",
    "    \n",
    "    loss = loss_fn(y_logits,y_pred)#BCElohits works with logits\n",
    "    acc = accuracy_fn(y_train,y_pred)\n",
    "    \n",
    "    #optimzer zero grads\n",
    "    optimizer.zero_grad()\n",
    "    \n",
    "    #loss bakwards \n",
    "    loss.backward()\n",
    "    \n",
    "    #update the param\n",
    "    optimizer.step()\n",
    "    \n",
    "    \n",
    "    ###Testing\n",
    "    model.eval()\n",
    "    \n",
    "    with torch.no_grad():\n",
    "        #forward_pass\n",
    "        test_logits = model(x_test).squeeze()\n",
    "        test_pred = torch.round(torch.sigmoid(test_logits))\n",
    "        \n",
    "        #calcualte loss/accuracy\n",
    "        test_loss = loss_fn(test_logits,y_test)\n",
    "        test_acc = accuracy_fn(y_test,test_pred)\n",
    "   # Print out what's happening every 10 epochs\n",
    "    if epoch % 10 == 0:\n",
    "        print(f\"Epoch: {epoch} | Loss: {loss:.5f}, Accuracy: {acc:.2f}% | Test loss: {test_loss:.5f}, Test acc: {test_acc:.2f}%\")     "
   ]
  },
  {
   "cell_type": "code",
   "execution_count": 138,
   "id": "c7b165f7",
   "metadata": {},
   "outputs": [
    {
     "name": "stdout",
     "output_type": "stream",
     "text": [
      "Downloading helper_functions.py\n"
     ]
    }
   ],
   "source": [
    "import requests\n",
    "from pathlib import Path \n",
    "\n",
    "# Download helper functions from Learn PyTorch repo (if not already downloaded)\n",
    "if Path(\"helper_functions.py\").is_file():\n",
    "  print(\"helper_functions.py already exists, skipping download\")\n",
    "else:\n",
    "  print(\"Downloading helper_functions.py\")\n",
    "  request = requests.get(\"https://raw.githubusercontent.com/mrdbourke/pytorch-deep-learning/main/helper_functions.py\")\n",
    "  with open(\"helper_functions.py\", \"wb\") as f:\n",
    "    f.write(request.content)\n",
    "\n",
    "from helper_functions import plot_predictions, plot_decision_boundary"
   ]
  },
  {
   "cell_type": "code",
   "execution_count": 139,
   "id": "649e5412",
   "metadata": {},
   "outputs": [
    {
     "ename": "AttributeError",
     "evalue": "module 'torch' has no attribute 'inference_mode'",
     "output_type": "error",
     "traceback": [
      "\u001b[1;31m---------------------------------------------------------------------------\u001b[0m",
      "\u001b[1;31mAttributeError\u001b[0m                            Traceback (most recent call last)",
      "\u001b[1;32m~\\AppData\\Local\\Temp/ipykernel_19284/889784535.py\u001b[0m in \u001b[0;36m<module>\u001b[1;34m\u001b[0m\n\u001b[0;32m      2\u001b[0m \u001b[0mplt\u001b[0m\u001b[1;33m.\u001b[0m\u001b[0msubplot\u001b[0m\u001b[1;33m(\u001b[0m\u001b[1;36m1\u001b[0m\u001b[1;33m,\u001b[0m \u001b[1;36m2\u001b[0m\u001b[1;33m,\u001b[0m \u001b[1;36m1\u001b[0m\u001b[1;33m)\u001b[0m\u001b[1;33m\u001b[0m\u001b[1;33m\u001b[0m\u001b[0m\n\u001b[0;32m      3\u001b[0m \u001b[0mplt\u001b[0m\u001b[1;33m.\u001b[0m\u001b[0mtitle\u001b[0m\u001b[1;33m(\u001b[0m\u001b[1;34m\"Train\"\u001b[0m\u001b[1;33m)\u001b[0m\u001b[1;33m\u001b[0m\u001b[1;33m\u001b[0m\u001b[0m\n\u001b[1;32m----> 4\u001b[1;33m \u001b[0mplot_decision_boundary\u001b[0m\u001b[1;33m(\u001b[0m\u001b[0mmodel_0\u001b[0m\u001b[1;33m,\u001b[0m \u001b[0mX_train\u001b[0m\u001b[1;33m,\u001b[0m \u001b[0my_train\u001b[0m\u001b[1;33m)\u001b[0m\u001b[1;33m\u001b[0m\u001b[1;33m\u001b[0m\u001b[0m\n\u001b[0m\u001b[0;32m      5\u001b[0m \u001b[0mplt\u001b[0m\u001b[1;33m.\u001b[0m\u001b[0msubplot\u001b[0m\u001b[1;33m(\u001b[0m\u001b[1;36m1\u001b[0m\u001b[1;33m,\u001b[0m \u001b[1;36m2\u001b[0m\u001b[1;33m,\u001b[0m \u001b[1;36m2\u001b[0m\u001b[1;33m)\u001b[0m\u001b[1;33m\u001b[0m\u001b[1;33m\u001b[0m\u001b[0m\n\u001b[0;32m      6\u001b[0m \u001b[0mplt\u001b[0m\u001b[1;33m.\u001b[0m\u001b[0mtitle\u001b[0m\u001b[1;33m(\u001b[0m\u001b[1;34m\"Test\"\u001b[0m\u001b[1;33m)\u001b[0m\u001b[1;33m\u001b[0m\u001b[1;33m\u001b[0m\u001b[0m\n",
      "\u001b[1;32m~\\Desktop\\pytorch\\helper_functions.py\u001b[0m in \u001b[0;36mplot_decision_boundary\u001b[1;34m(model, X, y)\u001b[0m\n\u001b[0;32m     55\u001b[0m     \u001b[1;31m# Make predictions\u001b[0m\u001b[1;33m\u001b[0m\u001b[1;33m\u001b[0m\u001b[1;33m\u001b[0m\u001b[0m\n\u001b[0;32m     56\u001b[0m     \u001b[0mmodel\u001b[0m\u001b[1;33m.\u001b[0m\u001b[0meval\u001b[0m\u001b[1;33m(\u001b[0m\u001b[1;33m)\u001b[0m\u001b[1;33m\u001b[0m\u001b[1;33m\u001b[0m\u001b[0m\n\u001b[1;32m---> 57\u001b[1;33m     \u001b[1;32mwith\u001b[0m \u001b[0mtorch\u001b[0m\u001b[1;33m.\u001b[0m\u001b[0minference_mode\u001b[0m\u001b[1;33m(\u001b[0m\u001b[1;33m)\u001b[0m\u001b[1;33m:\u001b[0m\u001b[1;33m\u001b[0m\u001b[1;33m\u001b[0m\u001b[0m\n\u001b[0m\u001b[0;32m     58\u001b[0m         \u001b[0my_logits\u001b[0m \u001b[1;33m=\u001b[0m \u001b[0mmodel\u001b[0m\u001b[1;33m(\u001b[0m\u001b[0mX_to_pred_on\u001b[0m\u001b[1;33m)\u001b[0m\u001b[1;33m\u001b[0m\u001b[1;33m\u001b[0m\u001b[0m\n\u001b[0;32m     59\u001b[0m \u001b[1;33m\u001b[0m\u001b[0m\n",
      "\u001b[1;31mAttributeError\u001b[0m: module 'torch' has no attribute 'inference_mode'"
     ]
    },
    {
     "data": {
      "image/png": "[encoded data removed]",
      "text/plain": [
       "<Figure size 864x432 with 1 Axes>"
      ]
     },
     "metadata": {
      "needs_background": "light"
     },
     "output_type": "display_data"
    }
   ],
   "source": [
    "plt.figure(figsize=(12, 6))\n",
    "plt.subplot(1, 2, 1)\n",
    "plt.title(\"Train\")\n",
    "plot_decision_boundary(model_0, X_train, y_train)\n",
    "plt.subplot(1, 2, 2)\n",
    "plt.title(\"Test\")\n",
    "plot_decision_boundary(model_0, X_test, y_test)"
   ]
  },
  {
   "cell_type": "code",
   "execution_count": null,
   "id": "6d6620c5",
   "metadata": {},
   "outputs": [],
   "source": [
    "#Model could not learn beacuse what we did was using only linear model\n",
    "#Since our data is circle and non-linearity is present, we need to use RELO"
   ]
  },
  {
   "cell_type": "code",
   "execution_count": 141,
   "id": "ec0a75ae",
   "metadata": {},
   "outputs": [
    {
     "data": {
      "text/plain": [
       "CircleModelV1(\n",
       "  (layer_1): Linear(in_features=2, out_features=10, bias=True)\n",
       "  (layer_2): Linear(in_features=10, out_features=10, bias=True)\n",
       "  (layer_3): Linear(in_features=10, out_features=1, bias=True)\n",
       "  (relu): ReLU()\n",
       ")"
      ]
     },
     "execution_count": 141,
     "metadata": {},
     "output_type": "execute_result"
    }
   ],
   "source": [
    "class CircleModelV1(nn.Module):\n",
    "    def __init__(self):\n",
    "        super().__init__()\n",
    "        self.layer_1 = nn.Linear(in_features=2, out_features=10)\n",
    "        self.layer_2 = nn.Linear(in_features=10, out_features=10) # extra layer\n",
    "        self.layer_3 = nn.Linear(in_features=10, out_features=1)\n",
    "        self.relu = nn.ReLU() #so we dont need to use it on prediction\n",
    "        \n",
    "    def forward(self, x): # note: always make sure forward is spelt correctly!\n",
    "        # Creating a model like this is the same as below, though below\n",
    "        # generally benefits from speedups where possible.\n",
    "        # z = self.layer_1(x)\n",
    "        # z = self.layer_2(z)\n",
    "        # z = self.layer_3(z)\n",
    "        # return z\n",
    "        return self.layer_3(self.relu(self.layer_2(self.relu(self.layer_1(x)))))\n",
    "\n",
    "model_1 = CircleModelV1().to(device)\n",
    "model_1"
   ]
  },
  {
   "cell_type": "code",
   "execution_count": 143,
   "id": "aebf9a02",
   "metadata": {},
   "outputs": [],
   "source": [
    "# Setup loss and optimizer \n",
    "loss_fn = nn.BCEWithLogitsLoss()\n",
    "optimizer = torch.optim.SGD(model_1.parameters(), lr=0.1)"
   ]
  },
  {
   "cell_type": "code",
   "execution_count": 147,
   "id": "813051fe",
   "metadata": {},
   "outputs": [
    {
     "name": "stdout",
     "output_type": "stream",
     "text": [
      "Epoch: 0 | Loss: 0.69428, Accuracy: 50.00% | Test Loss: 0.69347, Test Accuracy: 50.00%\n",
      "Epoch: 100 | Loss: 0.69161, Accuracy: 54.62% | Test Loss: 0.69051, Test Accuracy: 52.50%\n",
      "Epoch: 200 | Loss: 0.69073, Accuracy: 50.88% | Test Loss: 0.68920, Test Accuracy: 54.50%\n",
      "Epoch: 300 | Loss: 0.68974, Accuracy: 51.38% | Test Loss: 0.68773, Test Accuracy: 56.00%\n",
      "Epoch: 400 | Loss: 0.68862, Accuracy: 51.38% | Test Loss: 0.68613, Test Accuracy: 56.00%\n",
      "Epoch: 500 | Loss: 0.68731, Accuracy: 52.00% | Test Loss: 0.68437, Test Accuracy: 56.00%\n",
      "Epoch: 600 | Loss: 0.68574, Accuracy: 54.87% | Test Loss: 0.68244, Test Accuracy: 57.50%\n",
      "Epoch: 700 | Loss: 0.68373, Accuracy: 59.75% | Test Loss: 0.68026, Test Accuracy: 62.50%\n",
      "Epoch: 800 | Loss: 0.68105, Accuracy: 56.75% | Test Loss: 0.67766, Test Accuracy: 58.00%\n",
      "Epoch: 900 | Loss: 0.67757, Accuracy: 58.63% | Test Loss: 0.67455, Test Accuracy: 60.00%\n"
     ]
    }
   ],
   "source": [
    "torch.manual_seed(42)\n",
    "epochs = 1000\n",
    "\n",
    "# Put all data on target device\n",
    "X_train, y_train = x_train.to(device), y_train.to(device)\n",
    "X_test, y_test = x_test.to(device), y_test.to(device)\n",
    "\n",
    "for epoch in range(epochs):\n",
    "    # 1. Forward pass\n",
    "    y_logits = model_1(X_train).squeeze()\n",
    "    y_pred = torch.round(torch.sigmoid(y_logits)) # logits -> prediction probabilities -> prediction labels\n",
    "    \n",
    "    # 2. Calculate loss and accuracy\n",
    "    loss = loss_fn(y_logits, y_train) # BCEWithLogitsLoss calculates loss using logits\n",
    "    acc = accuracy_fn(y_true=y_train, \n",
    "                      y_pred=y_pred)\n",
    "    \n",
    "    # 3. Optimizer zero grad\n",
    "    optimizer.zero_grad()\n",
    "\n",
    "    # 4. Loss backward\n",
    "    loss.backward()\n",
    "\n",
    "    # 5. Optimizer step\n",
    "    optimizer.step()\n",
    "\n",
    "    ### Testing\n",
    "    model_1.eval()\n",
    "    with torch.no_grad():\n",
    "        \n",
    "      # 1. Forward pass\n",
    "        test_logits = model_1(X_test).squeeze()\n",
    "        test_pred = torch.round(torch.sigmoid(test_logits)) # logits -> prediction probabilities -> prediction labels\n",
    "      # 2. Calcuate loss and accuracy\n",
    "        test_loss = loss_fn(test_logits, y_test)\n",
    "        test_acc = accuracy_fn(y_true=y_test,\n",
    "                             y_pred=test_pred)\n",
    "\n",
    "    # Print out what's happening\n",
    "    if epoch % 100 == 0:\n",
    "        print(f\"Epoch: {epoch} | Loss: {loss:.5f}, Accuracy: {acc:.2f}% | Test Loss: {test_loss:.5f}, Test Accuracy: {test_acc:.2f}%\")"
   ]
  },
  {
   "cell_type": "code",
   "execution_count": null,
   "id": "d3090620",
   "metadata": {},
   "outputs": [],
   "source": [
    "#assignment problem"
   ]
  },
  {
   "cell_type": "code",
   "execution_count": 150,
   "id": "885ac273",
   "metadata": {},
   "outputs": [],
   "source": [
    "import torch\n",
    "from torch import nn\n",
    "import pandas as pd"
   ]
  },
  {
   "cell_type": "code",
   "execution_count": 153,
   "id": "40a8cfbd",
   "metadata": {},
   "outputs": [],
   "source": [
    "from sklearn.datasets import make_moons\n",
    "rs = 42"
   ]
  },
  {
   "cell_type": "code",
   "execution_count": 165,
   "id": "b1296868",
   "metadata": {},
   "outputs": [],
   "source": [
    "X, y = make_moons(n_samples=1000,random_state=rs)\n",
    "X = torch.from_numpy(X).type(torch.float)\n",
    "y = torch.from_numpy(y).type(torch.float)\n"
   ]
  },
  {
   "cell_type": "code",
   "execution_count": 157,
   "id": "d8c8c995",
   "metadata": {},
   "outputs": [
    {
     "name": "stdout",
     "output_type": "stream",
     "text": [
      "(1000, 2) (1000,)\n"
     ]
    }
   ],
   "source": [
    "print(X.shape,y.shape)"
   ]
  },
  {
   "cell_type": "code",
   "execution_count": 166,
   "id": "4d7a988f",
   "metadata": {},
   "outputs": [
    {
     "data": {
      "text/plain": [
       "<matplotlib.axes._subplots.AxesSubplot at 0x1986272e0f0>"
      ]
     },
     "execution_count": 166,
     "metadata": {},
     "output_type": "execute_result"
    },
    {
     "data": {
      "image/png": "[encoded data removed]",
      "text/plain": [
       "<Figure size 432x288 with 1 Axes>"
      ]
     },
     "metadata": {
      "needs_background": "light"
     },
     "output_type": "display_data"
    }
   ],
   "source": [
    "sns.scatterplot(X[:,0],X[:,1])"
   ]
  },
  {
   "cell_type": "code",
   "execution_count": 167,
   "id": "ee83f6f2",
   "metadata": {},
   "outputs": [],
   "source": [
    "x_train,x_test, y_train,y_test = train_test_split(X,y,test_size=0.2)"
   ]
  },
  {
   "cell_type": "code",
   "execution_count": 210,
   "id": "12b7462d",
   "metadata": {},
   "outputs": [
    {
     "data": {
      "text/plain": [
       "Moon(\n",
       "  (layer_1): Linear(in_features=2, out_features=5, bias=True)\n",
       "  (layer_2): Linear(in_features=5, out_features=1, bias=True)\n",
       "  (relu): ReLU()\n",
       ")"
      ]
     },
     "execution_count": 210,
     "metadata": {},
     "output_type": "execute_result"
    }
   ],
   "source": [
    "class Moon(nn.Module):\n",
    "    def __init__(self):\n",
    "        super().__init__()\n",
    "        self.layer_1 = nn.Linear(in_features=2,out_features = 5)\n",
    "        self.layer_2 = nn.Linear(in_features = 5 ,out_features = 1)\n",
    "        self.relu = nn.ReLU()\n",
    "        \n",
    "    def forward(self,x) :\n",
    "        return self.layer_2(self.relu(self.layer_1(x)))\n",
    "\n",
    "model_m = Moon().to(device)\n",
    "model_m"
   ]
  },
  {
   "cell_type": "code",
   "execution_count": 202,
   "id": "0354ecb6",
   "metadata": {},
   "outputs": [],
   "source": [
    "loss_fn = nn.BCEWithLogitsLoss()\n",
    "optimizer = torch.optim.SGD(params=model_m.parameters(),lr=0.01)"
   ]
  },
  {
   "cell_type": "code",
   "execution_count": 201,
   "id": "c0142155",
   "metadata": {},
   "outputs": [
    {
     "data": {
      "text/plain": [
       "[Parameter containing:\n",
       " tensor([[-0.0123,  0.5534],\n",
       "         [-0.5024,  0.0445],\n",
       "         [-0.4826,  0.2180],\n",
       "         [-0.2435,  0.2167],\n",
       "         [-0.1473,  0.5865]], device='cuda:0', requires_grad=True),\n",
       " Parameter containing:\n",
       " tensor([-0.4191, -0.4217, -0.4217,  0.6360,  0.2356], device='cuda:0',\n",
       "        requires_grad=True),\n",
       " Parameter containing:\n",
       " tensor([[ 0.4303, -0.3691, -0.4436, -0.3499, -0.3008]], device='cuda:0',\n",
       "        requires_grad=True),\n",
       " Parameter containing:\n",
       " tensor([0.1811], device='cuda:0', requires_grad=True)]"
      ]
     },
     "execution_count": 201,
     "metadata": {},
     "output_type": "execute_result"
    }
   ],
   "source": [
    "list(model_m.parameters())"
   ]
  },
  {
   "cell_type": "code",
   "execution_count": 189,
   "id": "cd58e718",
   "metadata": {},
   "outputs": [],
   "source": [
    "def accuracy_fn(actual,pred):\n",
    "    acc = torch.eq(actual,pred).sum().item()/len(actual)\n",
    "    return acc*100"
   ]
  },
  {
   "cell_type": "code",
   "execution_count": 214,
   "id": "73285a20",
   "metadata": {},
   "outputs": [
    {
     "name": "stdout",
     "output_type": "stream",
     "text": [
      "Epoch: 0 | Loss: 0.50900, Accuracy: 50.25% | Test Loss: 0.72523, Test Accuracy: 49.00%\n",
      "Epoch: 100 | Loss: 0.50900, Accuracy: 50.25% | Test Loss: 0.72523, Test Accuracy: 49.00%\n",
      "Epoch: 200 | Loss: 0.50900, Accuracy: 50.25% | Test Loss: 0.72523, Test Accuracy: 49.00%\n",
      "Epoch: 300 | Loss: 0.50900, Accuracy: 50.25% | Test Loss: 0.72523, Test Accuracy: 49.00%\n",
      "Epoch: 400 | Loss: 0.50900, Accuracy: 50.25% | Test Loss: 0.72523, Test Accuracy: 49.00%\n",
      "Epoch: 500 | Loss: 0.50900, Accuracy: 50.25% | Test Loss: 0.72523, Test Accuracy: 49.00%\n",
      "Epoch: 600 | Loss: 0.50900, Accuracy: 50.25% | Test Loss: 0.72523, Test Accuracy: 49.00%\n",
      "Epoch: 700 | Loss: 0.50900, Accuracy: 50.25% | Test Loss: 0.72523, Test Accuracy: 49.00%\n",
      "Epoch: 800 | Loss: 0.50900, Accuracy: 50.25% | Test Loss: 0.72523, Test Accuracy: 49.00%\n",
      "Epoch: 900 | Loss: 0.50900, Accuracy: 50.25% | Test Loss: 0.72523, Test Accuracy: 49.00%\n"
     ]
    }
   ],
   "source": [
    "#trainig model\n",
    "epochs = 1000\n",
    "\n",
    "# Put all data on target device\n",
    "x_train, y_train = x_train.to(device), y_train.to(device)\n",
    "x_test, y_test = x_test.to(device), y_test.to(device)\n",
    "\n",
    "\n",
    "for epoch in range(epochs):\n",
    "    model_m.train()\n",
    "    \n",
    "    #forward pass\n",
    "    logits = model_m(x_train).squeeze()\n",
    "    train_pred = torch.round((torch.sigmoid(logits)))\n",
    "    \n",
    "    #calculate loss\n",
    "    loss = loss_fn(logits,train_pred)\n",
    "    acc = accuracy_fn(y_train,train_pred)\n",
    "    \n",
    "    \n",
    "    #remove the prev gradients\n",
    "    optimizer.zero_grad()\n",
    "    \n",
    "    #backpropagte\n",
    "    loss.backward()\n",
    "    \n",
    "    #update weights\n",
    "    optimizer.step()\n",
    "    \n",
    "    \n",
    "    model_m.eval()\n",
    "    with torch.no_grad():\n",
    "        test_logits = model_m(x_test).squeeze()\n",
    "        test_pred = torch.round(torch.sigmoid(test_logits))\n",
    "        \n",
    "         # 2. Calcuate loss and accuracy\n",
    "        test_loss = loss_fn(test_logits, y_test)\n",
    "        test_acc = accuracy_fn(y_test,test_pred)\n",
    "\n",
    "    # Print out what's happening\n",
    "    if epoch % 100 == 0:\n",
    "        print(f\"Epoch: {epoch} | Loss: {loss:.5f}, Accuracy: {acc:.2f}% | Test Loss: {test_loss:.5f}, Test Accuracy: {test_acc:.2f}%\")"
   ]
  },
  {
   "cell_type": "code",
   "execution_count": 221,
   "id": "2f988588",
   "metadata": {},
   "outputs": [
    {
     "data": {
      "text/plain": [
       "MoonModelV0(\n",
       "  (layer1): Linear(in_features=2, out_features=10, bias=True)\n",
       "  (layer2): Linear(in_features=10, out_features=10, bias=True)\n",
       "  (layer3): Linear(in_features=10, out_features=1, bias=True)\n",
       "  (relu): ReLU()\n",
       ")"
      ]
     },
     "execution_count": 221,
     "metadata": {},
     "output_type": "execute_result"
    }
   ],
   "source": [
    "import torch\n",
    "from torch import nn\n",
    "\n",
    "class MoonModelV0(nn.Module):\n",
    "    def __init__(self, in_features, out_features, hidden_units):\n",
    "        super().__init__()\n",
    "        \n",
    "        self.layer1 = nn.Linear(in_features=in_features, \n",
    "                                 out_features=hidden_units)\n",
    "        self.layer2 = nn.Linear(in_features=hidden_units, \n",
    "                                 out_features=hidden_units)\n",
    "        self.layer3 = nn.Linear(in_features=hidden_units,\n",
    "                                out_features=out_features)\n",
    "        self.relu = nn.ReLU()\n",
    "\n",
    "    def forward(self, x):\n",
    "        return self.layer3(self.relu(self.layer2(self.relu(self.layer1(x)))))\n",
    "\n",
    "model_m = MoonModelV0(in_features=2,\n",
    "                      out_features=1,\n",
    "                      hidden_units=10).to(device)\n",
    "model_m"
   ]
  },
  {
   "cell_type": "code",
   "execution_count": 222,
   "id": "a6593924",
   "metadata": {},
   "outputs": [
    {
     "name": "stdout",
     "output_type": "stream",
     "text": [
      "Epoch: 0 | Loss: 0.70 Acc: 36.25 | Test loss: 0.70 Test acc: 38.50\n",
      "Epoch: 100 | Loss: 0.70 Acc: 36.25 | Test loss: 0.70 Test acc: 38.50\n",
      "Epoch: 200 | Loss: 0.70 Acc: 36.25 | Test loss: 0.70 Test acc: 38.50\n",
      "Epoch: 300 | Loss: 0.70 Acc: 36.25 | Test loss: 0.70 Test acc: 38.50\n",
      "Epoch: 400 | Loss: 0.70 Acc: 36.25 | Test loss: 0.70 Test acc: 38.50\n",
      "Epoch: 500 | Loss: 0.70 Acc: 36.25 | Test loss: 0.70 Test acc: 38.50\n",
      "Epoch: 600 | Loss: 0.70 Acc: 36.25 | Test loss: 0.70 Test acc: 38.50\n",
      "Epoch: 700 | Loss: 0.70 Acc: 36.25 | Test loss: 0.70 Test acc: 38.50\n",
      "Epoch: 800 | Loss: 0.70 Acc: 36.25 | Test loss: 0.70 Test acc: 38.50\n",
      "Epoch: 900 | Loss: 0.70 Acc: 36.25 | Test loss: 0.70 Test acc: 38.50\n"
     ]
    }
   ],
   "source": [
    "torch.manual_seed(rs)\n",
    "\n",
    "epochs=1000\n",
    "\n",
    "# Send data to the device\n",
    "X_train, y_train = x_train.to(device), y_train.to(device)\n",
    "X_test, y_test = x_test.to(device), y_test.to(device)\n",
    "\n",
    "# Loop through the data\n",
    "for epoch in range(epochs):\n",
    "    model_m.train()\n",
    "\n",
    "  # 1. Forward pass\n",
    "    y_logits = model_m(X_train).squeeze()\n",
    "      # print(y_logits[:5]) # model raw outputs are \"logits\"\n",
    "    y_pred_probs = torch.sigmoid(y_logits)\n",
    "    y_pred = torch.round(y_pred_probs)\n",
    "\n",
    "  # 2. Calculaute the loss\n",
    "    loss = loss_fn(y_logits, y_train) # loss = compare model raw outputs to desired model outputs\n",
    "    acc = accuracy_fn(y_pred, y_train.int()) # the accuracy function needs to compare pred labels (not logits) with actual labels\n",
    "\n",
    "  # 3. Zero the gradients\n",
    "    optimizer.zero_grad()\n",
    "\n",
    "  # 4. Loss backward (perform backpropagation) - https://brilliant.org/wiki/backpropagation/#:~:text=Backpropagation%2C%20short%20for%20%22backward%20propagation,to%20the%20neural%20network's%20weights.\n",
    "    loss.backward()\n",
    "\n",
    "  # 5. Step the optimizer (gradient descent) - https://towardsdatascience.com/gradient-descent-algorithm-a-deep-dive-cf04e8115f21#:~:text=Gradient%20descent%20(GD)%20is%20an,e.g.%20in%20a%20linear%20regression) \n",
    "    optimizer.step()\n",
    "\n",
    "  ### Testing\n",
    "    model_0.eval() \n",
    "    with torch.no_grad():\n",
    "        test_logits = model_m(X_test).squeeze()\n",
    "        test_pred = torch.round(torch.sigmoid(test_logits))\n",
    "    # 2. Caculate the loss/acc\n",
    "        test_loss = loss_fn(test_logits, y_test)\n",
    "        test_acc = accuracy_fn(test_pred, y_test.int()) \n",
    "\n",
    "  # Print out what's happening\n",
    "    if epoch % 100 == 0:\n",
    "        print(f\"Epoch: {epoch} | Loss: {loss:.2f} Acc: {acc:.2f} | Test loss: {test_loss:.2f} Test acc: {test_acc:.2f}\")\n",
    "     \n"
   ]
  },
  {
   "cell_type": "code",
   "execution_count": null,
   "id": "a66f5c71",
   "metadata": {},
   "outputs": [],
   "source": []
  }
 ],
 "metadata": {
  "kernelspec": {
   "display_name": "Python 3 (ipykernel)",
   "language": "python",
   "name": "python3"
  },
  "language_info": {
   "codemirror_mode": {
    "name": "ipython",
    "version": 3
   },
   "file_extension": ".py",
   "mimetype": "text/x-python",
   "name": "python",
   "nbconvert_exporter": "python",
   "pygments_lexer": "ipython3",
   "version": "3.7.3"
  }
 },
 "nbformat": 4,
 "nbformat_minor": 5
}
